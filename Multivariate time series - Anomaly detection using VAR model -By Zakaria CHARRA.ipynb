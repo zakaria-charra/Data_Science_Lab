{
  "cells": [
    {
      "cell_type": "code",
      "execution_count": null,
      "metadata": {
        "colab": {
          "base_uri": "https://localhost:8080/"
        },
        "id": "8fqR38G8hqYX",
        "outputId": "ecea30e7-2c0f-4597-f7af-c648a9e7899c"
      },
      "outputs": [
        {
          "name": "stdout",
          "output_type": "stream",
          "text": [
            "Drive already mounted at /content/drive; to attempt to forcibly remount, call drive.mount(\"/content/drive\", force_remount=True).\n"
          ]
        }
      ],
      "source": [
        "from google.colab import drive\n",
        "drive.mount('/content/drive')"
      ]
    },
    {
      "cell_type": "code",
      "execution_count": 1,
      "metadata": {
        "colab": {
          "base_uri": "https://localhost:8080/"
        },
        "id": "zkRW3_Yv6nhZ",
        "outputId": "f8efe286-0c0a-4892-886a-acb45031cee4"
      },
      "outputs": [
        {
          "output_type": "stream",
          "name": "stdout",
          "text": [
            "Archive:  /content/drive/MyDrive/nflow.zip\n",
            "  inflating: path_to_directory/nflow.csv  \n"
          ]
        }
      ],
      "source": [
        "!unzip /content/drive/MyDrive/nflow.zip -d path_to_directory"
      ]
    },
    {
      "cell_type": "code",
      "execution_count": 1,
      "metadata": {
        "id": "7e5dIqwe-ijR"
      },
      "outputs": [],
      "source": [
        "# importing matplotlib module\n",
        "import matplotlib.pyplot as plt\n",
        "plt.style.use('default')\n",
        "# %matplotlib inline: only draw static\n",
        "# images in the notebook\n",
        "%matplotlib inline\n",
        "import pandas as pd \n",
        "import numpy as np \n",
        "from sklearn.model_selection import train_test_split\n",
        "from copy import deepcopy\n",
        "from sklearn.preprocessing import StandardScaler\n"
      ]
    },
    {
      "cell_type": "code",
      "execution_count": 2,
      "metadata": {
        "id": "1eT13Zel-jg3"
      },
      "outputs": [],
      "source": [
        "df = pd.read_csv(\"path_to_directory/nflow.csv\")"
      ]
    },
    {
      "cell_type": "code",
      "execution_count": 3,
      "metadata": {
        "id": "RXDl0u6KH46J"
      },
      "outputs": [],
      "source": [
        "df=df.iloc[::80, :]"
      ]
    },
    {
      "cell_type": "code",
      "execution_count": 4,
      "metadata": {
        "colab": {
          "base_uri": "https://localhost:8080/",
          "height": 206
        },
        "id": "DnxcBUmJ_FqH",
        "outputId": "80b57ec2-5b14-41a7-e653-84d2c852f86f"
      },
      "outputs": [
        {
          "output_type": "execute_result",
          "data": {
            "text/plain": [
              "       n  timestamp     value  pressure\n",
              "0      0  902844205  0.998829 -0.979491\n",
              "80    80  903207304  0.999692 -0.990310\n",
              "160  160  903365914  0.999506 -0.985417\n",
              "240  240  903437364  0.999232 -0.995184\n",
              "320  320  903476472  0.999244 -0.971154"
            ],
            "text/html": [
              "\n",
              "  <div id=\"df-eadf16f2-4b8e-465e-98e4-d957169bfd9e\">\n",
              "    <div class=\"colab-df-container\">\n",
              "      <div>\n",
              "<style scoped>\n",
              "    .dataframe tbody tr th:only-of-type {\n",
              "        vertical-align: middle;\n",
              "    }\n",
              "\n",
              "    .dataframe tbody tr th {\n",
              "        vertical-align: top;\n",
              "    }\n",
              "\n",
              "    .dataframe thead th {\n",
              "        text-align: right;\n",
              "    }\n",
              "</style>\n",
              "<table border=\"1\" class=\"dataframe\">\n",
              "  <thead>\n",
              "    <tr style=\"text-align: right;\">\n",
              "      <th></th>\n",
              "      <th>n</th>\n",
              "      <th>timestamp</th>\n",
              "      <th>value</th>\n",
              "      <th>pressure</th>\n",
              "    </tr>\n",
              "  </thead>\n",
              "  <tbody>\n",
              "    <tr>\n",
              "      <th>0</th>\n",
              "      <td>0</td>\n",
              "      <td>902844205</td>\n",
              "      <td>0.998829</td>\n",
              "      <td>-0.979491</td>\n",
              "    </tr>\n",
              "    <tr>\n",
              "      <th>80</th>\n",
              "      <td>80</td>\n",
              "      <td>903207304</td>\n",
              "      <td>0.999692</td>\n",
              "      <td>-0.990310</td>\n",
              "    </tr>\n",
              "    <tr>\n",
              "      <th>160</th>\n",
              "      <td>160</td>\n",
              "      <td>903365914</td>\n",
              "      <td>0.999506</td>\n",
              "      <td>-0.985417</td>\n",
              "    </tr>\n",
              "    <tr>\n",
              "      <th>240</th>\n",
              "      <td>240</td>\n",
              "      <td>903437364</td>\n",
              "      <td>0.999232</td>\n",
              "      <td>-0.995184</td>\n",
              "    </tr>\n",
              "    <tr>\n",
              "      <th>320</th>\n",
              "      <td>320</td>\n",
              "      <td>903476472</td>\n",
              "      <td>0.999244</td>\n",
              "      <td>-0.971154</td>\n",
              "    </tr>\n",
              "  </tbody>\n",
              "</table>\n",
              "</div>\n",
              "      <button class=\"colab-df-convert\" onclick=\"convertToInteractive('df-eadf16f2-4b8e-465e-98e4-d957169bfd9e')\"\n",
              "              title=\"Convert this dataframe to an interactive table.\"\n",
              "              style=\"display:none;\">\n",
              "        \n",
              "  <svg xmlns=\"http://www.w3.org/2000/svg\" height=\"24px\"viewBox=\"0 0 24 24\"\n",
              "       width=\"24px\">\n",
              "    <path d=\"M0 0h24v24H0V0z\" fill=\"none\"/>\n",
              "    <path d=\"M18.56 5.44l.94 2.06.94-2.06 2.06-.94-2.06-.94-.94-2.06-.94 2.06-2.06.94zm-11 1L8.5 8.5l.94-2.06 2.06-.94-2.06-.94L8.5 2.5l-.94 2.06-2.06.94zm10 10l.94 2.06.94-2.06 2.06-.94-2.06-.94-.94-2.06-.94 2.06-2.06.94z\"/><path d=\"M17.41 7.96l-1.37-1.37c-.4-.4-.92-.59-1.43-.59-.52 0-1.04.2-1.43.59L10.3 9.45l-7.72 7.72c-.78.78-.78 2.05 0 2.83L4 21.41c.39.39.9.59 1.41.59.51 0 1.02-.2 1.41-.59l7.78-7.78 2.81-2.81c.8-.78.8-2.07 0-2.86zM5.41 20L4 18.59l7.72-7.72 1.47 1.35L5.41 20z\"/>\n",
              "  </svg>\n",
              "      </button>\n",
              "      \n",
              "  <style>\n",
              "    .colab-df-container {\n",
              "      display:flex;\n",
              "      flex-wrap:wrap;\n",
              "      gap: 12px;\n",
              "    }\n",
              "\n",
              "    .colab-df-convert {\n",
              "      background-color: #E8F0FE;\n",
              "      border: none;\n",
              "      border-radius: 50%;\n",
              "      cursor: pointer;\n",
              "      display: none;\n",
              "      fill: #1967D2;\n",
              "      height: 32px;\n",
              "      padding: 0 0 0 0;\n",
              "      width: 32px;\n",
              "    }\n",
              "\n",
              "    .colab-df-convert:hover {\n",
              "      background-color: #E2EBFA;\n",
              "      box-shadow: 0px 1px 2px rgba(60, 64, 67, 0.3), 0px 1px 3px 1px rgba(60, 64, 67, 0.15);\n",
              "      fill: #174EA6;\n",
              "    }\n",
              "\n",
              "    [theme=dark] .colab-df-convert {\n",
              "      background-color: #3B4455;\n",
              "      fill: #D2E3FC;\n",
              "    }\n",
              "\n",
              "    [theme=dark] .colab-df-convert:hover {\n",
              "      background-color: #434B5C;\n",
              "      box-shadow: 0px 1px 3px 1px rgba(0, 0, 0, 0.15);\n",
              "      filter: drop-shadow(0px 1px 2px rgba(0, 0, 0, 0.3));\n",
              "      fill: #FFFFFF;\n",
              "    }\n",
              "  </style>\n",
              "\n",
              "      <script>\n",
              "        const buttonEl =\n",
              "          document.querySelector('#df-eadf16f2-4b8e-465e-98e4-d957169bfd9e button.colab-df-convert');\n",
              "        buttonEl.style.display =\n",
              "          google.colab.kernel.accessAllowed ? 'block' : 'none';\n",
              "\n",
              "        async function convertToInteractive(key) {\n",
              "          const element = document.querySelector('#df-eadf16f2-4b8e-465e-98e4-d957169bfd9e');\n",
              "          const dataTable =\n",
              "            await google.colab.kernel.invokeFunction('convertToInteractive',\n",
              "                                                     [key], {});\n",
              "          if (!dataTable) return;\n",
              "\n",
              "          const docLinkHtml = 'Like what you see? Visit the ' +\n",
              "            '<a target=\"_blank\" href=https://colab.research.google.com/notebooks/data_table.ipynb>data table notebook</a>'\n",
              "            + ' to learn more about interactive tables.';\n",
              "          element.innerHTML = '';\n",
              "          dataTable['output_type'] = 'display_data';\n",
              "          await google.colab.output.renderOutput(dataTable, element);\n",
              "          const docLink = document.createElement('div');\n",
              "          docLink.innerHTML = docLinkHtml;\n",
              "          element.appendChild(docLink);\n",
              "        }\n",
              "      </script>\n",
              "    </div>\n",
              "  </div>\n",
              "  "
            ]
          },
          "metadata": {},
          "execution_count": 4
        }
      ],
      "source": [
        "df.head(5)"
      ]
    },
    {
      "cell_type": "code",
      "execution_count": 5,
      "metadata": {
        "colab": {
          "base_uri": "https://localhost:8080/"
        },
        "id": "q8CqJt05_kqE",
        "outputId": "5ecf5556-97aa-4a5c-9f65-f91bb33d85e6"
      },
      "outputs": [
        {
          "output_type": "execute_result",
          "data": {
            "text/plain": [
              "446763"
            ]
          },
          "metadata": {},
          "execution_count": 5
        }
      ],
      "source": [
        "len(df)"
      ]
    },
    {
      "cell_type": "code",
      "execution_count": 6,
      "metadata": {
        "colab": {
          "base_uri": "https://localhost:8080/"
        },
        "id": "B11cAK0l7FVR",
        "outputId": "9270c23c-6dba-4db6-f156-b0f3046ac92b"
      },
      "outputs": [
        {
          "output_type": "execute_result",
          "data": {
            "text/plain": [
              "(446763, 4)"
            ]
          },
          "metadata": {},
          "execution_count": 6
        }
      ],
      "source": [
        "df.shape"
      ]
    },
    {
      "cell_type": "code",
      "execution_count": 7,
      "metadata": {
        "colab": {
          "base_uri": "https://localhost:8080/",
          "height": 49
        },
        "id": "rzopQItuiGdt",
        "outputId": "450948a4-a5e5-409f-b016-89411a63e864"
      },
      "outputs": [
        {
          "output_type": "execute_result",
          "data": {
            "text/plain": [
              "Empty DataFrame\n",
              "Columns: [n, timestamp, value, pressure]\n",
              "Index: []"
            ],
            "text/html": [
              "\n",
              "  <div id=\"df-679dd104-91bf-43aa-9e75-5b398b05cfca\">\n",
              "    <div class=\"colab-df-container\">\n",
              "      <div>\n",
              "<style scoped>\n",
              "    .dataframe tbody tr th:only-of-type {\n",
              "        vertical-align: middle;\n",
              "    }\n",
              "\n",
              "    .dataframe tbody tr th {\n",
              "        vertical-align: top;\n",
              "    }\n",
              "\n",
              "    .dataframe thead th {\n",
              "        text-align: right;\n",
              "    }\n",
              "</style>\n",
              "<table border=\"1\" class=\"dataframe\">\n",
              "  <thead>\n",
              "    <tr style=\"text-align: right;\">\n",
              "      <th></th>\n",
              "      <th>n</th>\n",
              "      <th>timestamp</th>\n",
              "      <th>value</th>\n",
              "      <th>pressure</th>\n",
              "    </tr>\n",
              "  </thead>\n",
              "  <tbody>\n",
              "  </tbody>\n",
              "</table>\n",
              "</div>\n",
              "      <button class=\"colab-df-convert\" onclick=\"convertToInteractive('df-679dd104-91bf-43aa-9e75-5b398b05cfca')\"\n",
              "              title=\"Convert this dataframe to an interactive table.\"\n",
              "              style=\"display:none;\">\n",
              "        \n",
              "  <svg xmlns=\"http://www.w3.org/2000/svg\" height=\"24px\"viewBox=\"0 0 24 24\"\n",
              "       width=\"24px\">\n",
              "    <path d=\"M0 0h24v24H0V0z\" fill=\"none\"/>\n",
              "    <path d=\"M18.56 5.44l.94 2.06.94-2.06 2.06-.94-2.06-.94-.94-2.06-.94 2.06-2.06.94zm-11 1L8.5 8.5l.94-2.06 2.06-.94-2.06-.94L8.5 2.5l-.94 2.06-2.06.94zm10 10l.94 2.06.94-2.06 2.06-.94-2.06-.94-.94-2.06-.94 2.06-2.06.94z\"/><path d=\"M17.41 7.96l-1.37-1.37c-.4-.4-.92-.59-1.43-.59-.52 0-1.04.2-1.43.59L10.3 9.45l-7.72 7.72c-.78.78-.78 2.05 0 2.83L4 21.41c.39.39.9.59 1.41.59.51 0 1.02-.2 1.41-.59l7.78-7.78 2.81-2.81c.8-.78.8-2.07 0-2.86zM5.41 20L4 18.59l7.72-7.72 1.47 1.35L5.41 20z\"/>\n",
              "  </svg>\n",
              "      </button>\n",
              "      \n",
              "  <style>\n",
              "    .colab-df-container {\n",
              "      display:flex;\n",
              "      flex-wrap:wrap;\n",
              "      gap: 12px;\n",
              "    }\n",
              "\n",
              "    .colab-df-convert {\n",
              "      background-color: #E8F0FE;\n",
              "      border: none;\n",
              "      border-radius: 50%;\n",
              "      cursor: pointer;\n",
              "      display: none;\n",
              "      fill: #1967D2;\n",
              "      height: 32px;\n",
              "      padding: 0 0 0 0;\n",
              "      width: 32px;\n",
              "    }\n",
              "\n",
              "    .colab-df-convert:hover {\n",
              "      background-color: #E2EBFA;\n",
              "      box-shadow: 0px 1px 2px rgba(60, 64, 67, 0.3), 0px 1px 3px 1px rgba(60, 64, 67, 0.15);\n",
              "      fill: #174EA6;\n",
              "    }\n",
              "\n",
              "    [theme=dark] .colab-df-convert {\n",
              "      background-color: #3B4455;\n",
              "      fill: #D2E3FC;\n",
              "    }\n",
              "\n",
              "    [theme=dark] .colab-df-convert:hover {\n",
              "      background-color: #434B5C;\n",
              "      box-shadow: 0px 1px 3px 1px rgba(0, 0, 0, 0.15);\n",
              "      filter: drop-shadow(0px 1px 2px rgba(0, 0, 0, 0.3));\n",
              "      fill: #FFFFFF;\n",
              "    }\n",
              "  </style>\n",
              "\n",
              "      <script>\n",
              "        const buttonEl =\n",
              "          document.querySelector('#df-679dd104-91bf-43aa-9e75-5b398b05cfca button.colab-df-convert');\n",
              "        buttonEl.style.display =\n",
              "          google.colab.kernel.accessAllowed ? 'block' : 'none';\n",
              "\n",
              "        async function convertToInteractive(key) {\n",
              "          const element = document.querySelector('#df-679dd104-91bf-43aa-9e75-5b398b05cfca');\n",
              "          const dataTable =\n",
              "            await google.colab.kernel.invokeFunction('convertToInteractive',\n",
              "                                                     [key], {});\n",
              "          if (!dataTable) return;\n",
              "\n",
              "          const docLinkHtml = 'Like what you see? Visit the ' +\n",
              "            '<a target=\"_blank\" href=https://colab.research.google.com/notebooks/data_table.ipynb>data table notebook</a>'\n",
              "            + ' to learn more about interactive tables.';\n",
              "          element.innerHTML = '';\n",
              "          dataTable['output_type'] = 'display_data';\n",
              "          await google.colab.output.renderOutput(dataTable, element);\n",
              "          const docLink = document.createElement('div');\n",
              "          docLink.innerHTML = docLinkHtml;\n",
              "          element.appendChild(docLink);\n",
              "        }\n",
              "      </script>\n",
              "    </div>\n",
              "  </div>\n",
              "  "
            ]
          },
          "metadata": {},
          "execution_count": 7
        }
      ],
      "source": [
        "df[df.isnull().any(axis=1)]"
      ]
    },
    {
      "cell_type": "code",
      "source": [
        "pip install statsmodels"
      ],
      "metadata": {
        "colab": {
          "base_uri": "https://localhost:8080/"
        },
        "id": "wERnSBGKphOY",
        "outputId": "a65818ce-68f0-48d5-eed9-c8b9419a9516"
      },
      "execution_count": 33,
      "outputs": [
        {
          "output_type": "stream",
          "name": "stdout",
          "text": [
            "Looking in indexes: https://pypi.org/simple, https://us-python.pkg.dev/colab-wheels/public/simple/\n",
            "Requirement already satisfied: statsmodels in /usr/local/lib/python3.7/dist-packages (0.10.2)\n",
            "Requirement already satisfied: numpy>=1.11 in /usr/local/lib/python3.7/dist-packages (from statsmodels) (1.21.6)\n",
            "Requirement already satisfied: patsy>=0.4.0 in /usr/local/lib/python3.7/dist-packages (from statsmodels) (0.5.2)\n",
            "Requirement already satisfied: pandas>=0.19 in /usr/local/lib/python3.7/dist-packages (from statsmodels) (1.3.5)\n",
            "Requirement already satisfied: scipy>=0.18 in /usr/local/lib/python3.7/dist-packages (from statsmodels) (1.4.1)\n",
            "Requirement already satisfied: pytz>=2017.3 in /usr/local/lib/python3.7/dist-packages (from pandas>=0.19->statsmodels) (2022.1)\n",
            "Requirement already satisfied: python-dateutil>=2.7.3 in /usr/local/lib/python3.7/dist-packages (from pandas>=0.19->statsmodels) (2.8.2)\n",
            "Requirement already satisfied: six in /usr/local/lib/python3.7/dist-packages (from patsy>=0.4.0->statsmodels) (1.15.0)\n"
          ]
        }
      ]
    },
    {
      "cell_type": "code",
      "source": [
        "from statsmodels.tsa.stattools import adfuller"
      ],
      "metadata": {
        "colab": {
          "base_uri": "https://localhost:8080/"
        },
        "id": "uR11W3dpplyL",
        "outputId": "062f9afc-b3ee-4c7b-8769-298fe9cdd865"
      },
      "execution_count": 8,
      "outputs": [
        {
          "output_type": "stream",
          "name": "stderr",
          "text": [
            "/usr/local/lib/python3.7/dist-packages/statsmodels/tools/_testing.py:19: FutureWarning: pandas.util.testing is deprecated. Use the functions in the public API at pandas.testing instead.\n",
            "  import pandas.util.testing as tm\n"
          ]
        }
      ]
    },
    {
      "cell_type": "code",
      "source": [
        "def test_stationarity(ts_data, column='', signif=0.05, series=False):\n",
        "    if series:\n",
        "        adf_test = adfuller(ts_data, autolag='AIC')\n",
        "    else:\n",
        "        adf_test = adfuller(ts_data[column], autolag='AIC')\n",
        "    p_value = adf_test[1]\n",
        "    if p_value <= signif:\n",
        "        test_result = \"Stationary\"\n",
        "    else:\n",
        "        test_result = \"Non-Stationary\"\n",
        "    return test_result\n",
        "\"\"\"Multivariate Time Series\"\"\"\n",
        "occ_data = df.set_index('timestamp')\n",
        "occ_data.head()"
      ],
      "metadata": {
        "colab": {
          "base_uri": "https://localhost:8080/",
          "height": 237
        },
        "id": "6gmRcL1ApUdN",
        "outputId": "18c66d86-0acc-4781-f1e0-64bce67a8a82"
      },
      "execution_count": 9,
      "outputs": [
        {
          "output_type": "execute_result",
          "data": {
            "text/plain": [
              "             n     value  pressure\n",
              "timestamp                         \n",
              "902844205    0  0.998829 -0.979491\n",
              "903207304   80  0.999692 -0.990310\n",
              "903365914  160  0.999506 -0.985417\n",
              "903437364  240  0.999232 -0.995184\n",
              "903476472  320  0.999244 -0.971154"
            ],
            "text/html": [
              "\n",
              "  <div id=\"df-cc8d5e13-0f81-4e86-8cbd-95a6fa7eac2a\">\n",
              "    <div class=\"colab-df-container\">\n",
              "      <div>\n",
              "<style scoped>\n",
              "    .dataframe tbody tr th:only-of-type {\n",
              "        vertical-align: middle;\n",
              "    }\n",
              "\n",
              "    .dataframe tbody tr th {\n",
              "        vertical-align: top;\n",
              "    }\n",
              "\n",
              "    .dataframe thead th {\n",
              "        text-align: right;\n",
              "    }\n",
              "</style>\n",
              "<table border=\"1\" class=\"dataframe\">\n",
              "  <thead>\n",
              "    <tr style=\"text-align: right;\">\n",
              "      <th></th>\n",
              "      <th>n</th>\n",
              "      <th>value</th>\n",
              "      <th>pressure</th>\n",
              "    </tr>\n",
              "    <tr>\n",
              "      <th>timestamp</th>\n",
              "      <th></th>\n",
              "      <th></th>\n",
              "      <th></th>\n",
              "    </tr>\n",
              "  </thead>\n",
              "  <tbody>\n",
              "    <tr>\n",
              "      <th>902844205</th>\n",
              "      <td>0</td>\n",
              "      <td>0.998829</td>\n",
              "      <td>-0.979491</td>\n",
              "    </tr>\n",
              "    <tr>\n",
              "      <th>903207304</th>\n",
              "      <td>80</td>\n",
              "      <td>0.999692</td>\n",
              "      <td>-0.990310</td>\n",
              "    </tr>\n",
              "    <tr>\n",
              "      <th>903365914</th>\n",
              "      <td>160</td>\n",
              "      <td>0.999506</td>\n",
              "      <td>-0.985417</td>\n",
              "    </tr>\n",
              "    <tr>\n",
              "      <th>903437364</th>\n",
              "      <td>240</td>\n",
              "      <td>0.999232</td>\n",
              "      <td>-0.995184</td>\n",
              "    </tr>\n",
              "    <tr>\n",
              "      <th>903476472</th>\n",
              "      <td>320</td>\n",
              "      <td>0.999244</td>\n",
              "      <td>-0.971154</td>\n",
              "    </tr>\n",
              "  </tbody>\n",
              "</table>\n",
              "</div>\n",
              "      <button class=\"colab-df-convert\" onclick=\"convertToInteractive('df-cc8d5e13-0f81-4e86-8cbd-95a6fa7eac2a')\"\n",
              "              title=\"Convert this dataframe to an interactive table.\"\n",
              "              style=\"display:none;\">\n",
              "        \n",
              "  <svg xmlns=\"http://www.w3.org/2000/svg\" height=\"24px\"viewBox=\"0 0 24 24\"\n",
              "       width=\"24px\">\n",
              "    <path d=\"M0 0h24v24H0V0z\" fill=\"none\"/>\n",
              "    <path d=\"M18.56 5.44l.94 2.06.94-2.06 2.06-.94-2.06-.94-.94-2.06-.94 2.06-2.06.94zm-11 1L8.5 8.5l.94-2.06 2.06-.94-2.06-.94L8.5 2.5l-.94 2.06-2.06.94zm10 10l.94 2.06.94-2.06 2.06-.94-2.06-.94-.94-2.06-.94 2.06-2.06.94z\"/><path d=\"M17.41 7.96l-1.37-1.37c-.4-.4-.92-.59-1.43-.59-.52 0-1.04.2-1.43.59L10.3 9.45l-7.72 7.72c-.78.78-.78 2.05 0 2.83L4 21.41c.39.39.9.59 1.41.59.51 0 1.02-.2 1.41-.59l7.78-7.78 2.81-2.81c.8-.78.8-2.07 0-2.86zM5.41 20L4 18.59l7.72-7.72 1.47 1.35L5.41 20z\"/>\n",
              "  </svg>\n",
              "      </button>\n",
              "      \n",
              "  <style>\n",
              "    .colab-df-container {\n",
              "      display:flex;\n",
              "      flex-wrap:wrap;\n",
              "      gap: 12px;\n",
              "    }\n",
              "\n",
              "    .colab-df-convert {\n",
              "      background-color: #E8F0FE;\n",
              "      border: none;\n",
              "      border-radius: 50%;\n",
              "      cursor: pointer;\n",
              "      display: none;\n",
              "      fill: #1967D2;\n",
              "      height: 32px;\n",
              "      padding: 0 0 0 0;\n",
              "      width: 32px;\n",
              "    }\n",
              "\n",
              "    .colab-df-convert:hover {\n",
              "      background-color: #E2EBFA;\n",
              "      box-shadow: 0px 1px 2px rgba(60, 64, 67, 0.3), 0px 1px 3px 1px rgba(60, 64, 67, 0.15);\n",
              "      fill: #174EA6;\n",
              "    }\n",
              "\n",
              "    [theme=dark] .colab-df-convert {\n",
              "      background-color: #3B4455;\n",
              "      fill: #D2E3FC;\n",
              "    }\n",
              "\n",
              "    [theme=dark] .colab-df-convert:hover {\n",
              "      background-color: #434B5C;\n",
              "      box-shadow: 0px 1px 3px 1px rgba(0, 0, 0, 0.15);\n",
              "      filter: drop-shadow(0px 1px 2px rgba(0, 0, 0, 0.3));\n",
              "      fill: #FFFFFF;\n",
              "    }\n",
              "  </style>\n",
              "\n",
              "      <script>\n",
              "        const buttonEl =\n",
              "          document.querySelector('#df-cc8d5e13-0f81-4e86-8cbd-95a6fa7eac2a button.colab-df-convert');\n",
              "        buttonEl.style.display =\n",
              "          google.colab.kernel.accessAllowed ? 'block' : 'none';\n",
              "\n",
              "        async function convertToInteractive(key) {\n",
              "          const element = document.querySelector('#df-cc8d5e13-0f81-4e86-8cbd-95a6fa7eac2a');\n",
              "          const dataTable =\n",
              "            await google.colab.kernel.invokeFunction('convertToInteractive',\n",
              "                                                     [key], {});\n",
              "          if (!dataTable) return;\n",
              "\n",
              "          const docLinkHtml = 'Like what you see? Visit the ' +\n",
              "            '<a target=\"_blank\" href=https://colab.research.google.com/notebooks/data_table.ipynb>data table notebook</a>'\n",
              "            + ' to learn more about interactive tables.';\n",
              "          element.innerHTML = '';\n",
              "          dataTable['output_type'] = 'display_data';\n",
              "          await google.colab.output.renderOutput(dataTable, element);\n",
              "          const docLink = document.createElement('div');\n",
              "          docLink.innerHTML = docLinkHtml;\n",
              "          element.appendChild(docLink);\n",
              "        }\n",
              "      </script>\n",
              "    </div>\n",
              "  </div>\n",
              "  "
            ]
          },
          "metadata": {},
          "execution_count": 9
        }
      ]
    },
    {
      "cell_type": "code",
      "source": [
        "occ_data.drop(['n'], axis = 1, inplace = True) "
      ],
      "metadata": {
        "id": "duGc_kLLqAT8"
      },
      "execution_count": 10,
      "outputs": []
    },
    {
      "cell_type": "code",
      "source": [
        "occ_data.head()"
      ],
      "metadata": {
        "colab": {
          "base_uri": "https://localhost:8080/",
          "height": 237
        },
        "id": "-SYPEdY4qFZ2",
        "outputId": "27e0f101-b978-435f-e985-ef91412bcc9f"
      },
      "execution_count": 11,
      "outputs": [
        {
          "output_type": "execute_result",
          "data": {
            "text/plain": [
              "              value  pressure\n",
              "timestamp                    \n",
              "902844205  0.998829 -0.979491\n",
              "903207304  0.999692 -0.990310\n",
              "903365914  0.999506 -0.985417\n",
              "903437364  0.999232 -0.995184\n",
              "903476472  0.999244 -0.971154"
            ],
            "text/html": [
              "\n",
              "  <div id=\"df-2589f9bb-15f7-4ef9-a3f7-827641d0677f\">\n",
              "    <div class=\"colab-df-container\">\n",
              "      <div>\n",
              "<style scoped>\n",
              "    .dataframe tbody tr th:only-of-type {\n",
              "        vertical-align: middle;\n",
              "    }\n",
              "\n",
              "    .dataframe tbody tr th {\n",
              "        vertical-align: top;\n",
              "    }\n",
              "\n",
              "    .dataframe thead th {\n",
              "        text-align: right;\n",
              "    }\n",
              "</style>\n",
              "<table border=\"1\" class=\"dataframe\">\n",
              "  <thead>\n",
              "    <tr style=\"text-align: right;\">\n",
              "      <th></th>\n",
              "      <th>value</th>\n",
              "      <th>pressure</th>\n",
              "    </tr>\n",
              "    <tr>\n",
              "      <th>timestamp</th>\n",
              "      <th></th>\n",
              "      <th></th>\n",
              "    </tr>\n",
              "  </thead>\n",
              "  <tbody>\n",
              "    <tr>\n",
              "      <th>902844205</th>\n",
              "      <td>0.998829</td>\n",
              "      <td>-0.979491</td>\n",
              "    </tr>\n",
              "    <tr>\n",
              "      <th>903207304</th>\n",
              "      <td>0.999692</td>\n",
              "      <td>-0.990310</td>\n",
              "    </tr>\n",
              "    <tr>\n",
              "      <th>903365914</th>\n",
              "      <td>0.999506</td>\n",
              "      <td>-0.985417</td>\n",
              "    </tr>\n",
              "    <tr>\n",
              "      <th>903437364</th>\n",
              "      <td>0.999232</td>\n",
              "      <td>-0.995184</td>\n",
              "    </tr>\n",
              "    <tr>\n",
              "      <th>903476472</th>\n",
              "      <td>0.999244</td>\n",
              "      <td>-0.971154</td>\n",
              "    </tr>\n",
              "  </tbody>\n",
              "</table>\n",
              "</div>\n",
              "      <button class=\"colab-df-convert\" onclick=\"convertToInteractive('df-2589f9bb-15f7-4ef9-a3f7-827641d0677f')\"\n",
              "              title=\"Convert this dataframe to an interactive table.\"\n",
              "              style=\"display:none;\">\n",
              "        \n",
              "  <svg xmlns=\"http://www.w3.org/2000/svg\" height=\"24px\"viewBox=\"0 0 24 24\"\n",
              "       width=\"24px\">\n",
              "    <path d=\"M0 0h24v24H0V0z\" fill=\"none\"/>\n",
              "    <path d=\"M18.56 5.44l.94 2.06.94-2.06 2.06-.94-2.06-.94-.94-2.06-.94 2.06-2.06.94zm-11 1L8.5 8.5l.94-2.06 2.06-.94-2.06-.94L8.5 2.5l-.94 2.06-2.06.94zm10 10l.94 2.06.94-2.06 2.06-.94-2.06-.94-.94-2.06-.94 2.06-2.06.94z\"/><path d=\"M17.41 7.96l-1.37-1.37c-.4-.4-.92-.59-1.43-.59-.52 0-1.04.2-1.43.59L10.3 9.45l-7.72 7.72c-.78.78-.78 2.05 0 2.83L4 21.41c.39.39.9.59 1.41.59.51 0 1.02-.2 1.41-.59l7.78-7.78 2.81-2.81c.8-.78.8-2.07 0-2.86zM5.41 20L4 18.59l7.72-7.72 1.47 1.35L5.41 20z\"/>\n",
              "  </svg>\n",
              "      </button>\n",
              "      \n",
              "  <style>\n",
              "    .colab-df-container {\n",
              "      display:flex;\n",
              "      flex-wrap:wrap;\n",
              "      gap: 12px;\n",
              "    }\n",
              "\n",
              "    .colab-df-convert {\n",
              "      background-color: #E8F0FE;\n",
              "      border: none;\n",
              "      border-radius: 50%;\n",
              "      cursor: pointer;\n",
              "      display: none;\n",
              "      fill: #1967D2;\n",
              "      height: 32px;\n",
              "      padding: 0 0 0 0;\n",
              "      width: 32px;\n",
              "    }\n",
              "\n",
              "    .colab-df-convert:hover {\n",
              "      background-color: #E2EBFA;\n",
              "      box-shadow: 0px 1px 2px rgba(60, 64, 67, 0.3), 0px 1px 3px 1px rgba(60, 64, 67, 0.15);\n",
              "      fill: #174EA6;\n",
              "    }\n",
              "\n",
              "    [theme=dark] .colab-df-convert {\n",
              "      background-color: #3B4455;\n",
              "      fill: #D2E3FC;\n",
              "    }\n",
              "\n",
              "    [theme=dark] .colab-df-convert:hover {\n",
              "      background-color: #434B5C;\n",
              "      box-shadow: 0px 1px 3px 1px rgba(0, 0, 0, 0.15);\n",
              "      filter: drop-shadow(0px 1px 2px rgba(0, 0, 0, 0.3));\n",
              "      fill: #FFFFFF;\n",
              "    }\n",
              "  </style>\n",
              "\n",
              "      <script>\n",
              "        const buttonEl =\n",
              "          document.querySelector('#df-2589f9bb-15f7-4ef9-a3f7-827641d0677f button.colab-df-convert');\n",
              "        buttonEl.style.display =\n",
              "          google.colab.kernel.accessAllowed ? 'block' : 'none';\n",
              "\n",
              "        async function convertToInteractive(key) {\n",
              "          const element = document.querySelector('#df-2589f9bb-15f7-4ef9-a3f7-827641d0677f');\n",
              "          const dataTable =\n",
              "            await google.colab.kernel.invokeFunction('convertToInteractive',\n",
              "                                                     [key], {});\n",
              "          if (!dataTable) return;\n",
              "\n",
              "          const docLinkHtml = 'Like what you see? Visit the ' +\n",
              "            '<a target=\"_blank\" href=https://colab.research.google.com/notebooks/data_table.ipynb>data table notebook</a>'\n",
              "            + ' to learn more about interactive tables.';\n",
              "          element.innerHTML = '';\n",
              "          dataTable['output_type'] = 'display_data';\n",
              "          await google.colab.output.renderOutput(dataTable, element);\n",
              "          const docLink = document.createElement('div');\n",
              "          docLink.innerHTML = docLinkHtml;\n",
              "          element.appendChild(docLink);\n",
              "        }\n",
              "      </script>\n",
              "    </div>\n",
              "  </div>\n",
              "  "
            ]
          },
          "metadata": {},
          "execution_count": 11
        }
      ]
    },
    {
      "cell_type": "code",
      "source": [
        "ig, axes = plt.subplots(nrows=1, ncols=2, dpi=120, figsize=(10,6))\n",
        "for i, ax in enumerate(axes.flatten()):\n",
        "    data = occ_data[occ_data.columns[i]]\n",
        "    ax.plot(data, color='orange', linewidth=1)\n",
        "    # Decorations\n",
        "    ax.set_title(occ_data.columns[i])\n",
        "    ax.xaxis.set_ticks_position('none')\n",
        "    ax.yaxis.set_ticks_position('none')\n",
        "    ax.spines[\"top\"].set_alpha(0)\n",
        "    ax.tick_params(labelsize=6)\n",
        "\n",
        "plt.tight_layout();"
      ],
      "metadata": {
        "colab": {
          "base_uri": "https://localhost:8080/",
          "height": 704
        },
        "id": "wFhUwgCXL6Yz",
        "outputId": "abe73745-339f-4e5e-abaf-559b30ddd010"
      },
      "execution_count": 45,
      "outputs": [
        {
          "output_type": "display_data",
          "data": {
            "text/plain": [
              "<Figure size 1200x720 with 2 Axes>"
            ],
            "image/png": "[encoded data removed]"
          },
          "metadata": {
            "needs_background": "light"
          }
        }
      ]
    },
    {
      "cell_type": "code",
      "source": [
        "occ_data.shape"
      ],
      "metadata": {
        "colab": {
          "base_uri": "https://localhost:8080/"
        },
        "id": "UZ-0smr53x4e",
        "outputId": "9a01addb-a23b-4232-c3bb-bcf4f1df0826"
      },
      "execution_count": 23,
      "outputs": [
        {
          "output_type": "execute_result",
          "data": {
            "text/plain": [
              "(446763, 2)"
            ]
          },
          "metadata": {},
          "execution_count": 23
        }
      ]
    },
    {
      "cell_type": "code",
      "source": [
        "adf_test_results = {\n",
        "    col: test_stationarity(occ_data.iloc[::30, :], col)\n",
        "    for col in occ_data.columns\n",
        "}\n",
        "adf_test_results"
      ],
      "metadata": {
        "colab": {
          "base_uri": "https://localhost:8080/"
        },
        "id": "uxQA9V8FqL9o",
        "outputId": "6302a58d-3e10-471b-8220-f60d95f1b876"
      },
      "execution_count": 13,
      "outputs": [
        {
          "output_type": "execute_result",
          "data": {
            "text/plain": [
              "{'pressure': 'Stationary', 'value': 'Non-Stationary'}"
            ]
          },
          "metadata": {},
          "execution_count": 13
        }
      ]
    },
    {
      "cell_type": "code",
      "source": [
        "def differencing(data, column, order):\n",
        "    differenced_data = data[column].diff(order)\n",
        "    differenced_data.fillna(differenced_data.mean(), inplace=True)\n",
        "    return differenced_data\n",
        "\n",
        "occ_data['value'] = differencing(occ_data,'value', 1)"
      ],
      "metadata": {
        "id": "wA-ZFjj7ucJr"
      },
      "execution_count": 12,
      "outputs": []
    },
    {
      "cell_type": "code",
      "source": [
        "adf_test_results = {\n",
        "    col: test_stationarity(occ_data.iloc[::30, :], col)\n",
        "    for col in occ_data.columns\n",
        "}\n",
        "adf_test_results"
      ],
      "metadata": {
        "colab": {
          "base_uri": "https://localhost:8080/"
        },
        "id": "aYJXBYQouy5I",
        "outputId": "9338b9ea-21d7-4461-91d6-cefb61c95e19"
      },
      "execution_count": 14,
      "outputs": [
        {
          "output_type": "execute_result",
          "data": {
            "text/plain": [
              "{'pressure': 'Stationary', 'value': 'Stationary'}"
            ]
          },
          "metadata": {},
          "execution_count": 14
        }
      ]
    },
    {
      "cell_type": "code",
      "source": [
        "train_df=occ_data[:312734]\n",
        "test_df=occ_data[312734:]"
      ],
      "metadata": {
        "id": "_H6hLf-l3ua3"
      },
      "execution_count": 74,
      "outputs": []
    },
    {
      "cell_type": "code",
      "source": [
        "train_df.shape"
      ],
      "metadata": {
        "colab": {
          "base_uri": "https://localhost:8080/"
        },
        "id": "Gk6UIbvl4QEp",
        "outputId": "7e5455b4-a5de-42c1-c00e-47fe04c054c4"
      },
      "execution_count": 27,
      "outputs": [
        {
          "output_type": "execute_result",
          "data": {
            "text/plain": [
              "(312734, 2)"
            ]
          },
          "metadata": {},
          "execution_count": 27
        }
      ]
    },
    {
      "cell_type": "code",
      "source": [
        "test_df.shape"
      ],
      "metadata": {
        "colab": {
          "base_uri": "https://localhost:8080/"
        },
        "id": "MvRbIT7h4akP",
        "outputId": "e1279ae1-b9e7-429f-f74a-46b5357b1960"
      },
      "execution_count": 29,
      "outputs": [
        {
          "output_type": "execute_result",
          "data": {
            "text/plain": [
              "(134029, 2)"
            ]
          },
          "metadata": {},
          "execution_count": 29
        }
      ]
    },
    {
      "cell_type": "code",
      "source": [
        "from statsmodels.tsa.api import VAR\n",
        "max_lag = 300\n",
        "var_model = VAR(train_df)\n",
        "# select the best lag order\n",
        "lag_results = var_model.select_order(max_lag)\n",
        "print(lag_results.summary())"
      ],
      "metadata": {
        "colab": {
          "base_uri": "https://localhost:8080/"
        },
        "id": "ze8zh56NwIJQ",
        "outputId": "3d3f4ae9-d163-4f2a-9cf8-6c0547dcc6fb"
      },
      "execution_count": 31,
      "outputs": [
        {
          "output_type": "stream",
          "name": "stderr",
          "text": [
            "/usr/local/lib/python3.7/dist-packages/statsmodels/tsa/base/tsa_model.py:215: ValueWarning: An unsupported index was provided and will be ignored when e.g. forecasting.\n",
            "  ' ignored when e.g. forecasting.', ValueWarning)\n"
          ]
        },
        {
          "output_type": "stream",
          "name": "stdout",
          "text": [
            "  VAR Order Selection (* highlights the minimums)  \n",
            "===================================================\n",
            "        AIC         BIC         FPE         HQIC   \n",
            "---------------------------------------------------\n",
            "0        -22.98      -22.98   1.052e-10      -22.98\n",
            "1        -22.99      -22.99   1.041e-10      -22.99\n",
            "2        -22.99      -22.99   1.036e-10      -22.99\n",
            "3        -23.00      -23.00   1.030e-10      -23.00\n",
            "4        -23.00      -23.00   1.027e-10      -23.00\n",
            "5        -23.00      -23.00   1.022e-10      -23.00\n",
            "6        -23.01      -23.01   1.019e-10      -23.01\n",
            "7        -23.01      -23.01   1.014e-10      -23.01\n",
            "8        -23.01      -23.01   1.013e-10      -23.01\n",
            "9        -23.01      -23.01   1.011e-10      -23.01\n",
            "10       -23.02      -23.02   1.009e-10      -23.02\n",
            "11       -23.02      -23.02   1.008e-10      -23.02\n",
            "12       -23.02      -23.02   1.005e-10      -23.02\n",
            "13       -23.03      -23.02   9.999e-11      -23.03\n",
            "14       -23.03      -23.03   9.941e-11      -23.03\n",
            "15       -23.03      -23.03   9.932e-11      -23.03\n",
            "16       -23.03      -23.03   9.918e-11      -23.03\n",
            "17       -23.04      -23.03   9.906e-11      -23.03\n",
            "18       -23.04      -23.03   9.889e-11      -23.04\n",
            "19       -23.04      -23.03   9.883e-11      -23.04\n",
            "20       -23.04      -23.04   9.853e-11      -23.04\n",
            "21       -23.04      -23.04   9.830e-11      -23.04\n",
            "22       -23.04      -23.04   9.825e-11      -23.04\n",
            "23       -23.05      -23.04   9.809e-11      -23.04\n",
            "24       -23.05      -23.04   9.807e-11      -23.04\n",
            "25       -23.05      -23.04   9.801e-11      -23.04\n",
            "26       -23.05      -23.04   9.777e-11      -23.05\n",
            "27       -23.05      -23.05   9.772e-11      -23.05\n",
            "28       -23.05      -23.05   9.768e-11      -23.05\n",
            "29       -23.05      -23.05   9.762e-11      -23.05\n",
            "30       -23.05      -23.05   9.761e-11      -23.05\n",
            "31       -23.05      -23.05   9.757e-11      -23.05\n",
            "32       -23.05      -23.05   9.738e-11      -23.05\n",
            "33       -23.05      -23.05   9.736e-11      -23.05\n",
            "34       -23.05      -23.05   9.724e-11      -23.05\n",
            "35       -23.06      -23.05   9.710e-11      -23.05\n",
            "36       -23.06      -23.05   9.706e-11      -23.05\n",
            "37       -23.06      -23.05   9.694e-11      -23.06\n",
            "38       -23.06      -23.05   9.693e-11      -23.06\n",
            "39       -23.06      -23.05   9.689e-11      -23.06\n",
            "40       -23.06      -23.05   9.675e-11      -23.06\n",
            "41       -23.06      -23.05   9.669e-11      -23.06\n",
            "42       -23.06      -23.05   9.665e-11      -23.06\n",
            "43       -23.06      -23.05   9.664e-11      -23.06\n",
            "44       -23.06      -23.05   9.662e-11      -23.06\n",
            "45       -23.06      -23.05   9.661e-11      -23.06\n",
            "46       -23.06      -23.05   9.653e-11      -23.06\n",
            "47       -23.06      -23.06   9.645e-11      -23.06\n",
            "48       -23.06      -23.06   9.635e-11      -23.06\n",
            "49       -23.06      -23.06   9.621e-11      -23.06\n",
            "50       -23.07      -23.06   9.603e-11      -23.06\n",
            "51       -23.07      -23.06   9.601e-11      -23.06\n",
            "52       -23.07      -23.06   9.599e-11      -23.06\n",
            "53       -23.07      -23.06   9.589e-11      -23.07\n",
            "54       -23.07      -23.06   9.588e-11      -23.07\n",
            "55       -23.07      -23.06   9.576e-11      -23.07\n",
            "56       -23.07      -23.06   9.575e-11      -23.07\n",
            "57       -23.07      -23.06   9.566e-11      -23.07\n",
            "58       -23.07      -23.06   9.565e-11      -23.07\n",
            "59       -23.07      -23.06   9.562e-11      -23.07\n",
            "60       -23.07      -23.06   9.558e-11      -23.07\n",
            "61       -23.07      -23.07   9.534e-11      -23.07\n",
            "62       -23.07      -23.07   9.534e-11      -23.07\n",
            "63       -23.07      -23.07   9.526e-11      -23.07\n",
            "64       -23.07      -23.07   9.524e-11      -23.07\n",
            "65       -23.08      -23.07   9.519e-11      -23.07\n",
            "66       -23.08      -23.07   9.517e-11      -23.07\n",
            "67       -23.08      -23.07   9.516e-11      -23.07\n",
            "68       -23.08      -23.07   9.514e-11      -23.07\n",
            "69       -23.08      -23.07   9.512e-11      -23.07\n",
            "70       -23.08      -23.07   9.507e-11      -23.07\n",
            "71       -23.08      -23.07   9.506e-11      -23.07\n",
            "72       -23.08      -23.07   9.502e-11      -23.07\n",
            "73       -23.08      -23.07   9.500e-11      -23.07\n",
            "74       -23.08      -23.07   9.499e-11      -23.07\n",
            "75       -23.08      -23.07   9.499e-11      -23.07\n",
            "76       -23.08      -23.07   9.493e-11      -23.07\n",
            "77       -23.08      -23.07   9.488e-11      -23.08\n",
            "78       -23.08      -23.07   9.487e-11      -23.08\n",
            "79       -23.08      -23.07   9.485e-11      -23.08\n",
            "80       -23.08      -23.07   9.485e-11      -23.08\n",
            "81       -23.08      -23.07   9.480e-11      -23.08\n",
            "82       -23.08      -23.07   9.479e-11      -23.08\n",
            "83       -23.08      -23.07   9.477e-11      -23.08\n",
            "84       -23.08      -23.07   9.475e-11      -23.08\n",
            "85       -23.08      -23.07   9.473e-11      -23.08\n",
            "86       -23.08      -23.07   9.472e-11      -23.08\n",
            "87       -23.08      -23.07   9.469e-11      -23.08\n",
            "88       -23.08      -23.07   9.469e-11      -23.08\n",
            "89       -23.08      -23.07   9.468e-11      -23.08\n",
            "90       -23.08      -23.07   9.467e-11      -23.08\n",
            "91       -23.08      -23.07   9.466e-11      -23.08\n",
            "92       -23.08      -23.07   9.434e-11      -23.08\n",
            "93       -23.08      -23.07   9.434e-11      -23.08\n",
            "94       -23.08      -23.07   9.433e-11      -23.08\n",
            "95       -23.08      -23.07   9.427e-11      -23.08\n",
            "96       -23.08      -23.07   9.426e-11      -23.08\n",
            "97       -23.09      -23.07   9.424e-11      -23.08\n",
            "98       -23.09      -23.07   9.422e-11      -23.08\n",
            "99       -23.09      -23.07   9.422e-11      -23.08\n",
            "100      -23.09      -23.07   9.422e-11      -23.08\n",
            "101      -23.09      -23.07   9.422e-11      -23.08\n",
            "102      -23.09      -23.07   9.422e-11      -23.08\n",
            "103      -23.09      -23.07   9.420e-11      -23.08\n",
            "104      -23.09      -23.07   9.420e-11      -23.08\n",
            "105      -23.09      -23.07   9.419e-11      -23.08\n",
            "106      -23.09      -23.07   9.418e-11      -23.08\n",
            "107      -23.09      -23.07   9.416e-11      -23.08\n",
            "108      -23.09      -23.07   9.413e-11      -23.08\n",
            "109      -23.09      -23.07   9.413e-11      -23.08\n",
            "110      -23.09      -23.07   9.413e-11      -23.08\n",
            "111      -23.09      -23.07   9.412e-11      -23.08\n",
            "112      -23.09      -23.07   9.411e-11      -23.08\n",
            "113      -23.09      -23.07   9.411e-11      -23.08\n",
            "114      -23.09      -23.07   9.411e-11      -23.08\n",
            "115      -23.09      -23.07   9.411e-11      -23.08\n",
            "116      -23.09      -23.07   9.410e-11      -23.08\n",
            "117      -23.09      -23.07   9.409e-11      -23.08\n",
            "118      -23.09      -23.07   9.406e-11      -23.08\n",
            "119      -23.09      -23.07   9.406e-11      -23.08\n",
            "120      -23.09      -23.07   9.406e-11      -23.08\n",
            "121      -23.09      -23.07   9.392e-11      -23.08\n",
            "122      -23.09      -23.07   9.390e-11      -23.08\n",
            "123      -23.09      -23.07   9.390e-11      -23.08\n",
            "124      -23.09      -23.07   9.390e-11      -23.08\n",
            "125      -23.09      -23.07   9.389e-11      -23.08\n",
            "126      -23.09      -23.07   9.389e-11      -23.08\n",
            "127      -23.09      -23.07   9.381e-11      -23.08\n",
            "128      -23.09     -23.07*   9.379e-11      -23.08\n",
            "129      -23.09      -23.07   9.379e-11      -23.08\n",
            "130      -23.09      -23.07   9.379e-11      -23.08\n",
            "131      -23.09      -23.07   9.379e-11      -23.08\n",
            "132      -23.09      -23.07   9.376e-11     -23.09*\n",
            "133      -23.09      -23.07   9.376e-11      -23.08\n",
            "134      -23.09      -23.07   9.377e-11      -23.08\n",
            "135      -23.09      -23.07   9.377e-11      -23.08\n",
            "136      -23.09      -23.07   9.376e-11      -23.08\n",
            "137      -23.09      -23.07   9.375e-11      -23.08\n",
            "138      -23.09      -23.07   9.376e-11      -23.08\n",
            "139      -23.09      -23.07   9.375e-11      -23.08\n",
            "140      -23.09      -23.07   9.375e-11      -23.08\n",
            "141      -23.09      -23.07   9.375e-11      -23.08\n",
            "142      -23.09      -23.07   9.375e-11      -23.08\n",
            "143      -23.09      -23.07   9.375e-11      -23.08\n",
            "144      -23.09      -23.07   9.373e-11      -23.08\n",
            "145      -23.09      -23.07   9.373e-11      -23.08\n",
            "146      -23.09      -23.07   9.373e-11      -23.08\n",
            "147      -23.09      -23.07   9.373e-11      -23.08\n",
            "148      -23.09      -23.07   9.373e-11      -23.08\n",
            "149      -23.09      -23.07   9.373e-11      -23.08\n",
            "150      -23.09      -23.07   9.373e-11      -23.08\n",
            "151      -23.09      -23.07   9.373e-11      -23.08\n",
            "152      -23.09      -23.07   9.373e-11      -23.08\n",
            "153      -23.09      -23.07   9.373e-11      -23.08\n",
            "154      -23.09      -23.07   9.372e-11      -23.08\n",
            "155      -23.09      -23.07   9.372e-11      -23.08\n",
            "156      -23.09      -23.07   9.372e-11      -23.08\n",
            "157      -23.09      -23.07   9.371e-11      -23.08\n",
            "158      -23.09      -23.07   9.371e-11      -23.08\n",
            "159      -23.09      -23.07   9.369e-11      -23.08\n",
            "160      -23.09      -23.07   9.369e-11      -23.08\n",
            "161      -23.09      -23.07   9.368e-11      -23.08\n",
            "162      -23.09      -23.07   9.369e-11      -23.08\n",
            "163      -23.09      -23.07   9.369e-11      -23.08\n",
            "164      -23.09      -23.07   9.369e-11      -23.08\n",
            "165      -23.09      -23.07   9.367e-11      -23.08\n",
            "166      -23.09      -23.07   9.367e-11      -23.08\n",
            "167      -23.09      -23.07   9.367e-11      -23.08\n",
            "168      -23.09      -23.07   9.367e-11      -23.08\n",
            "169      -23.09      -23.07   9.367e-11      -23.08\n",
            "170      -23.09      -23.07   9.367e-11      -23.08\n",
            "171      -23.09      -23.07   9.367e-11      -23.08\n",
            "172      -23.09      -23.07   9.367e-11      -23.08\n",
            "173      -23.09      -23.07   9.367e-11      -23.08\n",
            "174      -23.09      -23.07   9.367e-11      -23.08\n",
            "175      -23.09      -23.07   9.367e-11      -23.08\n",
            "176      -23.09      -23.07   9.367e-11      -23.08\n",
            "177      -23.09      -23.07   9.367e-11      -23.08\n",
            "178      -23.09      -23.07   9.366e-11      -23.08\n",
            "179      -23.09      -23.07   9.365e-11      -23.08\n",
            "180      -23.09      -23.07   9.365e-11      -23.08\n",
            "181      -23.09      -23.07   9.364e-11      -23.08\n",
            "182      -23.09      -23.07   9.364e-11      -23.08\n",
            "183      -23.09      -23.07   9.364e-11      -23.08\n",
            "184      -23.09      -23.07   9.362e-11      -23.08\n",
            "185      -23.09      -23.07   9.361e-11      -23.08\n",
            "186      -23.09      -23.07   9.361e-11      -23.08\n",
            "187      -23.09      -23.07   9.361e-11      -23.08\n",
            "188      -23.09      -23.07   9.360e-11      -23.08\n",
            "189      -23.09      -23.07   9.360e-11      -23.08\n",
            "190      -23.09      -23.07   9.360e-11      -23.08\n",
            "191      -23.09      -23.07   9.360e-11      -23.08\n",
            "192      -23.09      -23.07   9.360e-11      -23.08\n",
            "193      -23.09      -23.07   9.360e-11      -23.08\n",
            "194      -23.09      -23.07   9.360e-11      -23.08\n",
            "195      -23.09      -23.07   9.359e-11      -23.08\n",
            "196      -23.09      -23.07   9.359e-11      -23.08\n",
            "197      -23.09      -23.07   9.359e-11      -23.08\n",
            "198      -23.09      -23.06   9.359e-11      -23.08\n",
            "199      -23.09      -23.06   9.359e-11      -23.08\n",
            "200      -23.09      -23.06   9.357e-11      -23.08\n",
            "201      -23.09      -23.06   9.357e-11      -23.08\n",
            "202      -23.09      -23.06   9.356e-11      -23.08\n",
            "203      -23.09      -23.06   9.357e-11      -23.08\n",
            "204      -23.09      -23.06   9.357e-11      -23.08\n",
            "205      -23.09      -23.06   9.357e-11      -23.08\n",
            "206      -23.09      -23.06   9.357e-11      -23.08\n",
            "207      -23.09      -23.06   9.357e-11      -23.08\n",
            "208      -23.09      -23.06   9.357e-11      -23.08\n",
            "209      -23.09      -23.06   9.357e-11      -23.08\n",
            "210      -23.09      -23.06   9.357e-11      -23.08\n",
            "211      -23.09      -23.06   9.357e-11      -23.08\n",
            "212      -23.09      -23.06   9.357e-11      -23.08\n",
            "213      -23.09      -23.06   9.354e-11      -23.08\n",
            "214      -23.09      -23.06   9.355e-11      -23.08\n",
            "215      -23.09      -23.06   9.354e-11      -23.08\n",
            "216      -23.09      -23.06   9.354e-11      -23.08\n",
            "217      -23.09      -23.06   9.354e-11      -23.08\n",
            "218      -23.09      -23.06   9.354e-11      -23.08\n",
            "219      -23.09      -23.06   9.355e-11      -23.08\n",
            "220      -23.09      -23.06   9.355e-11      -23.08\n",
            "221      -23.09      -23.06   9.355e-11      -23.08\n",
            "222      -23.09      -23.06   9.352e-11      -23.08\n",
            "223      -23.09      -23.06   9.352e-11      -23.08\n",
            "224      -23.09      -23.06   9.352e-11      -23.08\n",
            "225      -23.09      -23.06   9.352e-11      -23.08\n",
            "226      -23.09      -23.06   9.351e-11      -23.08\n",
            "227      -23.09      -23.06   9.351e-11      -23.08\n",
            "228      -23.09      -23.06   9.351e-11      -23.08\n",
            "229      -23.09      -23.06   9.351e-11      -23.08\n",
            "230      -23.09      -23.06   9.352e-11      -23.08\n",
            "231      -23.09      -23.06   9.351e-11      -23.08\n",
            "232      -23.09      -23.06   9.351e-11      -23.08\n",
            "233      -23.09      -23.06   9.349e-11      -23.08\n",
            "234      -23.09      -23.06   9.349e-11      -23.08\n",
            "235      -23.09      -23.06   9.350e-11      -23.08\n",
            "236      -23.09      -23.06   9.348e-11      -23.08\n",
            "237      -23.09      -23.06   9.348e-11      -23.08\n",
            "238      -23.09      -23.06   9.348e-11      -23.08\n",
            "239      -23.09      -23.06   9.348e-11      -23.08\n",
            "240      -23.09      -23.06   9.348e-11      -23.08\n",
            "241      -23.09      -23.06   9.348e-11      -23.08\n",
            "242      -23.09      -23.06   9.348e-11      -23.08\n",
            "243      -23.09      -23.06   9.348e-11      -23.08\n",
            "244      -23.09      -23.06   9.348e-11      -23.08\n",
            "245      -23.09      -23.06   9.348e-11      -23.08\n",
            "246      -23.09      -23.06   9.348e-11      -23.08\n",
            "247      -23.09      -23.06   9.348e-11      -23.08\n",
            "248      -23.09      -23.06   9.348e-11      -23.08\n",
            "249      -23.09      -23.06   9.348e-11      -23.08\n",
            "250      -23.09      -23.06   9.348e-11      -23.08\n",
            "251      -23.09      -23.06   9.348e-11      -23.08\n",
            "252      -23.09      -23.06   9.349e-11      -23.08\n",
            "253      -23.09      -23.06   9.348e-11      -23.08\n",
            "254      -23.09      -23.06   9.348e-11      -23.08\n",
            "255      -23.09      -23.06   9.348e-11      -23.08\n",
            "256      -23.09      -23.06   9.348e-11      -23.08\n",
            "257      -23.09      -23.06   9.348e-11      -23.08\n",
            "258      -23.09      -23.06   9.348e-11      -23.08\n",
            "259      -23.09      -23.06   9.348e-11      -23.08\n",
            "260      -23.09      -23.06   9.348e-11      -23.08\n",
            "261      -23.09      -23.06   9.347e-11      -23.08\n",
            "262      -23.09      -23.06   9.347e-11      -23.08\n",
            "263      -23.09      -23.06   9.347e-11      -23.08\n",
            "264      -23.09      -23.06   9.347e-11      -23.08\n",
            "265      -23.09      -23.06   9.346e-11      -23.08\n",
            "266      -23.09      -23.06   9.346e-11      -23.08\n",
            "267      -23.09      -23.06   9.346e-11      -23.08\n",
            "268      -23.09      -23.06   9.346e-11      -23.08\n",
            "269      -23.09      -23.06   9.346e-11      -23.08\n",
            "270      -23.09      -23.06   9.346e-11      -23.08\n",
            "271      -23.09      -23.06   9.346e-11      -23.08\n",
            "272      -23.09      -23.06   9.346e-11      -23.08\n",
            "273      -23.09      -23.06   9.346e-11      -23.08\n",
            "274      -23.09      -23.06   9.346e-11      -23.08\n",
            "275      -23.09      -23.06   9.346e-11      -23.08\n",
            "276      -23.09      -23.06   9.346e-11      -23.08\n",
            "277      -23.09      -23.06   9.346e-11      -23.08\n",
            "278      -23.09      -23.06   9.346e-11      -23.08\n",
            "279      -23.09      -23.06   9.346e-11      -23.08\n",
            "280      -23.09      -23.06   9.346e-11      -23.08\n",
            "281      -23.09      -23.06   9.346e-11      -23.08\n",
            "282      -23.09      -23.05   9.346e-11      -23.08\n",
            "283      -23.09      -23.05   9.346e-11      -23.08\n",
            "284      -23.09      -23.05   9.344e-11      -23.08\n",
            "285      -23.09      -23.05   9.344e-11      -23.08\n",
            "286      -23.09      -23.05   9.344e-11      -23.08\n",
            "287      -23.09      -23.05   9.344e-11      -23.08\n",
            "288      -23.09      -23.05   9.343e-11      -23.08\n",
            "289      -23.09      -23.05   9.343e-11      -23.08\n",
            "290      -23.09      -23.05   9.344e-11      -23.08\n",
            "291      -23.09      -23.05   9.344e-11      -23.08\n",
            "292      -23.09      -23.05   9.344e-11      -23.08\n",
            "293      -23.09      -23.05   9.344e-11      -23.08\n",
            "294      -23.09      -23.05   9.343e-11      -23.08\n",
            "295     -23.09*      -23.05  9.343e-11*      -23.08\n",
            "296      -23.09      -23.05   9.343e-11      -23.08\n",
            "297      -23.09      -23.05   9.343e-11      -23.08\n",
            "298      -23.09      -23.05   9.343e-11      -23.08\n",
            "299      -23.09      -23.05   9.344e-11      -23.08\n",
            "300      -23.09      -23.05   9.343e-11      -23.08\n",
            "---------------------------------------------------\n"
          ]
        }
      ]
    },
    {
      "cell_type": "code",
      "source": [
        "lag_results.aic"
      ],
      "metadata": {
        "colab": {
          "base_uri": "https://localhost:8080/"
        },
        "id": "i48DtI2dG8OU",
        "outputId": "4d8f404f-28f5-4365-9a64-2a4cb4e9f8af"
      },
      "execution_count": 33,
      "outputs": [
        {
          "output_type": "execute_result",
          "data": {
            "text/plain": [
              "295"
            ]
          },
          "metadata": {},
          "execution_count": 33
        }
      ]
    },
    {
      "cell_type": "code",
      "source": [
        "def find_anomalies(squared_errors):\n",
        "    threshold = np.mean(squared_errors) + np.std(squared_errors)\n",
        "    predictions = (squared_errors >= threshold).astype(int)\n",
        "    return predictions, threshold\n",
        "var = VAR(train_df)\n",
        "var_fitresults = var.fit(lag_results.aic)\n",
        "squared_errors = var_fitresults.resid.sum(axis=1) ** 2\n",
        "predictions, threshold = find_anomalies(squared_errors)"
      ],
      "metadata": {
        "colab": {
          "base_uri": "https://localhost:8080/"
        },
        "id": "vlwy4DgsJXk3",
        "outputId": "6206bc95-ccdb-4093-d5a0-a2f037b35356"
      },
      "execution_count": 35,
      "outputs": [
        {
          "output_type": "stream",
          "name": "stderr",
          "text": [
            "/usr/local/lib/python3.7/dist-packages/statsmodels/tsa/base/tsa_model.py:215: ValueWarning: An unsupported index was provided and will be ignored when e.g. forecasting.\n",
            "  ' ignored when e.g. forecasting.', ValueWarning)\n"
          ]
        }
      ]
    },
    {
      "cell_type": "code",
      "source": [
        "from statistics import mean\n",
        "threshold = mean(squared_errors) + 1 * np.std(squared_errors)\n",
        "threshold"
      ],
      "metadata": {
        "colab": {
          "base_uri": "https://localhost:8080/"
        },
        "id": "aPFISsu9KI-r",
        "outputId": "c960a6ef-15f1-462e-eea9-22bfc30deb70"
      },
      "execution_count": 40,
      "outputs": [
        {
          "output_type": "execute_result",
          "data": {
            "text/plain": [
              "0.0022580105289996093"
            ]
          },
          "metadata": {},
          "execution_count": 40
        }
      ]
    },
    {
      "cell_type": "code",
      "source": [
        "data = train_df.iloc[lag_results.aic:, :]\n",
        "data['Predictions'] = predictions.values\n",
        "data"
      ],
      "metadata": {
        "colab": {
          "base_uri": "https://localhost:8080/",
          "height": 561
        },
        "id": "zyf-ZY5cLOTF",
        "outputId": "5d832e79-8ced-4611-b560-706faf09fbcc"
      },
      "execution_count": 41,
      "outputs": [
        {
          "output_type": "stream",
          "name": "stderr",
          "text": [
            "/usr/local/lib/python3.7/dist-packages/ipykernel_launcher.py:2: SettingWithCopyWarning: \n",
            "A value is trying to be set on a copy of a slice from a DataFrame.\n",
            "Try using .loc[row_indexer,col_indexer] = value instead\n",
            "\n",
            "See the caveats in the documentation: https://pandas.pydata.org/pandas-docs/stable/user_guide/indexing.html#returning-a-view-versus-a-copy\n",
            "  \n"
          ]
        },
        {
          "output_type": "execute_result",
          "data": {
            "text/plain": [
              "               value  pressure  Predictions\n",
              "timestamp                                  \n",
              "920386694  -0.000014 -0.999975            0\n",
              "920391075   0.000081 -0.999724            0\n",
              "920400465   0.000015 -0.999911            0\n",
              "920432887  -0.000042 -0.997399            0\n",
              "920449506   0.000029 -0.985167            0\n",
              "...              ...       ...          ...\n",
              "1084473484 -0.000838 -0.999895            0\n",
              "1084473552  0.004598 -0.981682            0\n",
              "1084473563  0.000547 -0.998542            0\n",
              "1084473577 -0.003020 -0.999850            0\n",
              "1084473578  0.002203 -0.999886            0\n",
              "\n",
              "[312439 rows x 3 columns]"
            ],
            "text/html": [
              "\n",
              "  <div id=\"df-5d260516-d0aa-47ee-b4d4-c339c5745c07\">\n",
              "    <div class=\"colab-df-container\">\n",
              "      <div>\n",
              "<style scoped>\n",
              "    .dataframe tbody tr th:only-of-type {\n",
              "        vertical-align: middle;\n",
              "    }\n",
              "\n",
              "    .dataframe tbody tr th {\n",
              "        vertical-align: top;\n",
              "    }\n",
              "\n",
              "    .dataframe thead th {\n",
              "        text-align: right;\n",
              "    }\n",
              "</style>\n",
              "<table border=\"1\" class=\"dataframe\">\n",
              "  <thead>\n",
              "    <tr style=\"text-align: right;\">\n",
              "      <th></th>\n",
              "      <th>value</th>\n",
              "      <th>pressure</th>\n",
              "      <th>Predictions</th>\n",
              "    </tr>\n",
              "    <tr>\n",
              "      <th>timestamp</th>\n",
              "      <th></th>\n",
              "      <th></th>\n",
              "      <th></th>\n",
              "    </tr>\n",
              "  </thead>\n",
              "  <tbody>\n",
              "    <tr>\n",
              "      <th>920386694</th>\n",
              "      <td>-0.000014</td>\n",
              "      <td>-0.999975</td>\n",
              "      <td>0</td>\n",
              "    </tr>\n",
              "    <tr>\n",
              "      <th>920391075</th>\n",
              "      <td>0.000081</td>\n",
              "      <td>-0.999724</td>\n",
              "      <td>0</td>\n",
              "    </tr>\n",
              "    <tr>\n",
              "      <th>920400465</th>\n",
              "      <td>0.000015</td>\n",
              "      <td>-0.999911</td>\n",
              "      <td>0</td>\n",
              "    </tr>\n",
              "    <tr>\n",
              "      <th>920432887</th>\n",
              "      <td>-0.000042</td>\n",
              "      <td>-0.997399</td>\n",
              "      <td>0</td>\n",
              "    </tr>\n",
              "    <tr>\n",
              "      <th>920449506</th>\n",
              "      <td>0.000029</td>\n",
              "      <td>-0.985167</td>\n",
              "      <td>0</td>\n",
              "    </tr>\n",
              "    <tr>\n",
              "      <th>...</th>\n",
              "      <td>...</td>\n",
              "      <td>...</td>\n",
              "      <td>...</td>\n",
              "    </tr>\n",
              "    <tr>\n",
              "      <th>1084473484</th>\n",
              "      <td>-0.000838</td>\n",
              "      <td>-0.999895</td>\n",
              "      <td>0</td>\n",
              "    </tr>\n",
              "    <tr>\n",
              "      <th>1084473552</th>\n",
              "      <td>0.004598</td>\n",
              "      <td>-0.981682</td>\n",
              "      <td>0</td>\n",
              "    </tr>\n",
              "    <tr>\n",
              "      <th>1084473563</th>\n",
              "      <td>0.000547</td>\n",
              "      <td>-0.998542</td>\n",
              "      <td>0</td>\n",
              "    </tr>\n",
              "    <tr>\n",
              "      <th>1084473577</th>\n",
              "      <td>-0.003020</td>\n",
              "      <td>-0.999850</td>\n",
              "      <td>0</td>\n",
              "    </tr>\n",
              "    <tr>\n",
              "      <th>1084473578</th>\n",
              "      <td>0.002203</td>\n",
              "      <td>-0.999886</td>\n",
              "      <td>0</td>\n",
              "    </tr>\n",
              "  </tbody>\n",
              "</table>\n",
              "<p>312439 rows × 3 columns</p>\n",
              "</div>\n",
              "      <button class=\"colab-df-convert\" onclick=\"convertToInteractive('df-5d260516-d0aa-47ee-b4d4-c339c5745c07')\"\n",
              "              title=\"Convert this dataframe to an interactive table.\"\n",
              "              style=\"display:none;\">\n",
              "        \n",
              "  <svg xmlns=\"http://www.w3.org/2000/svg\" height=\"24px\"viewBox=\"0 0 24 24\"\n",
              "       width=\"24px\">\n",
              "    <path d=\"M0 0h24v24H0V0z\" fill=\"none\"/>\n",
              "    <path d=\"M18.56 5.44l.94 2.06.94-2.06 2.06-.94-2.06-.94-.94-2.06-.94 2.06-2.06.94zm-11 1L8.5 8.5l.94-2.06 2.06-.94-2.06-.94L8.5 2.5l-.94 2.06-2.06.94zm10 10l.94 2.06.94-2.06 2.06-.94-2.06-.94-.94-2.06-.94 2.06-2.06.94z\"/><path d=\"M17.41 7.96l-1.37-1.37c-.4-.4-.92-.59-1.43-.59-.52 0-1.04.2-1.43.59L10.3 9.45l-7.72 7.72c-.78.78-.78 2.05 0 2.83L4 21.41c.39.39.9.59 1.41.59.51 0 1.02-.2 1.41-.59l7.78-7.78 2.81-2.81c.8-.78.8-2.07 0-2.86zM5.41 20L4 18.59l7.72-7.72 1.47 1.35L5.41 20z\"/>\n",
              "  </svg>\n",
              "      </button>\n",
              "      \n",
              "  <style>\n",
              "    .colab-df-container {\n",
              "      display:flex;\n",
              "      flex-wrap:wrap;\n",
              "      gap: 12px;\n",
              "    }\n",
              "\n",
              "    .colab-df-convert {\n",
              "      background-color: #E8F0FE;\n",
              "      border: none;\n",
              "      border-radius: 50%;\n",
              "      cursor: pointer;\n",
              "      display: none;\n",
              "      fill: #1967D2;\n",
              "      height: 32px;\n",
              "      padding: 0 0 0 0;\n",
              "      width: 32px;\n",
              "    }\n",
              "\n",
              "    .colab-df-convert:hover {\n",
              "      background-color: #E2EBFA;\n",
              "      box-shadow: 0px 1px 2px rgba(60, 64, 67, 0.3), 0px 1px 3px 1px rgba(60, 64, 67, 0.15);\n",
              "      fill: #174EA6;\n",
              "    }\n",
              "\n",
              "    [theme=dark] .colab-df-convert {\n",
              "      background-color: #3B4455;\n",
              "      fill: #D2E3FC;\n",
              "    }\n",
              "\n",
              "    [theme=dark] .colab-df-convert:hover {\n",
              "      background-color: #434B5C;\n",
              "      box-shadow: 0px 1px 3px 1px rgba(0, 0, 0, 0.15);\n",
              "      filter: drop-shadow(0px 1px 2px rgba(0, 0, 0, 0.3));\n",
              "      fill: #FFFFFF;\n",
              "    }\n",
              "  </style>\n",
              "\n",
              "      <script>\n",
              "        const buttonEl =\n",
              "          document.querySelector('#df-5d260516-d0aa-47ee-b4d4-c339c5745c07 button.colab-df-convert');\n",
              "        buttonEl.style.display =\n",
              "          google.colab.kernel.accessAllowed ? 'block' : 'none';\n",
              "\n",
              "        async function convertToInteractive(key) {\n",
              "          const element = document.querySelector('#df-5d260516-d0aa-47ee-b4d4-c339c5745c07');\n",
              "          const dataTable =\n",
              "            await google.colab.kernel.invokeFunction('convertToInteractive',\n",
              "                                                     [key], {});\n",
              "          if (!dataTable) return;\n",
              "\n",
              "          const docLinkHtml = 'Like what you see? Visit the ' +\n",
              "            '<a target=\"_blank\" href=https://colab.research.google.com/notebooks/data_table.ipynb>data table notebook</a>'\n",
              "            + ' to learn more about interactive tables.';\n",
              "          element.innerHTML = '';\n",
              "          dataTable['output_type'] = 'display_data';\n",
              "          await google.colab.output.renderOutput(dataTable, element);\n",
              "          const docLink = document.createElement('div');\n",
              "          docLink.innerHTML = docLinkHtml;\n",
              "          element.appendChild(docLink);\n",
              "        }\n",
              "      </script>\n",
              "    </div>\n",
              "  </div>\n",
              "  "
            ]
          },
          "metadata": {},
          "execution_count": 41
        }
      ]
    },
    {
      "cell_type": "code",
      "source": [
        "data['Predictions'].value_counts()"
      ],
      "metadata": {
        "colab": {
          "base_uri": "https://localhost:8080/"
        },
        "id": "V8CrDQi4LXxy",
        "outputId": "cca34eee-6125-4b44-9f78-c27755dd822a"
      },
      "execution_count": 42,
      "outputs": [
        {
          "output_type": "execute_result",
          "data": {
            "text/plain": [
              "0    311775\n",
              "1       664\n",
              "Name: Predictions, dtype: int64"
            ]
          },
          "metadata": {},
          "execution_count": 42
        }
      ]
    },
    {
      "cell_type": "code",
      "source": [
        "from statsmodels.tsa.statespace.varmax import VARMAX"
      ],
      "metadata": {
        "id": "OssIsCHWMzZd"
      },
      "execution_count": 46,
      "outputs": []
    },
    {
      "cell_type": "code",
      "source": [
        "var_model = VARMAX(train_df, order=(4,0),enforce_stationarity= True)\n",
        "fitted_model = var_model.fit(disp=False)\n",
        "print(fitted_model.summary())"
      ],
      "metadata": {
        "colab": {
          "base_uri": "https://localhost:8080/"
        },
        "id": "-T-o9Li8Mn_P",
        "outputId": "34d68b6a-ffd0-499f-d4f3-71a0b2f8a6e1"
      },
      "execution_count": 47,
      "outputs": [
        {
          "metadata": {
            "tags": null
          },
          "name": "stderr",
          "output_type": "stream",
          "text": [
            "/usr/local/lib/python3.7/dist-packages/statsmodels/tsa/base/tsa_model.py:215: ValueWarning: An unsupported index was provided and will be ignored when e.g. forecasting.\n",
            "  ' ignored when e.g. forecasting.', ValueWarning)\n"
          ]
        },
        {
          "output_type": "stream",
          "name": "stdout",
          "text": [
            "                             Statespace Model Results                            \n",
            "=================================================================================\n",
            "Dep. Variable:     ['value', 'pressure']   No. Observations:               312734\n",
            "Model:                            VAR(4)   Log Likelihood             2706829.695\n",
            "                             + intercept   AIC                       -5413617.390\n",
            "Date:                   Wed, 15 Jun 2022   BIC                       -5413393.675\n",
            "Time:                           16:40:17   HQIC                      -5413552.798\n",
            "Sample:                                0                                         \n",
            "                                - 312734                                         \n",
            "Covariance Type:                     opg                                         \n",
            "================================================================================================\n",
            "Ljung-Box (Q):          10440.83, 16067.54   Jarque-Bera (JB):   65378382206.05, 107469851204.17\n",
            "Prob(Q):                        0.00, 0.00   Prob(JB):                                0.00, 0.00\n",
            "Heteroskedasticity (H):         3.66, 0.08   Skew:                                  -7.84, 34.89\n",
            "Prob(H) (two-sided):            0.00, 0.00   Kurtosis:                          2242.88, 2874.00\n",
            "                           Results for equation value                          \n",
            "===============================================================================\n",
            "                  coef    std err          z      P>|z|      [0.025      0.975]\n",
            "-------------------------------------------------------------------------------\n",
            "intercept       0.0002      0.002      0.133      0.894      -0.003       0.004\n",
            "L1.value       -0.0693      9e-05   -769.655      0.000      -0.069      -0.069\n",
            "L1.pressure  4.557e-05      0.001      0.047      0.963      -0.002       0.002\n",
            "L2.value       -0.0427    7.5e-05   -568.719      0.000      -0.043      -0.043\n",
            "L2.pressure    -0.0002      0.001     -0.265      0.791      -0.002       0.001\n",
            "L3.value        0.0462   9.64e-05    479.264      0.000       0.046       0.046\n",
            "L3.pressure     0.0002      0.001      0.223      0.824      -0.001       0.002\n",
            "L4.value       -0.0089      0.000    -79.358      0.000      -0.009      -0.009\n",
            "L4.pressure     0.0003      0.001      0.247      0.805      -0.002       0.002\n",
            "                         Results for equation pressure                         \n",
            "===============================================================================\n",
            "                  coef    std err          z      P>|z|      [0.025      0.975]\n",
            "-------------------------------------------------------------------------------\n",
            "intercept      -0.7765      0.001   -942.165      0.000      -0.778      -0.775\n",
            "L1.value       -0.0140      0.011     -1.232      0.218      -0.036       0.008\n",
            "L1.pressure     0.0672      0.000    235.037      0.000       0.067       0.068\n",
            "L2.value        0.0092      0.019      0.475      0.635      -0.029       0.047\n",
            "L2.pressure     0.0463      0.001     85.561      0.000       0.045       0.047\n",
            "L3.value        0.0011      0.019      0.055      0.956      -0.037       0.039\n",
            "L3.pressure     0.0568      0.000    147.150      0.000       0.056       0.058\n",
            "L4.value        0.0038      0.019      0.198      0.843      -0.034       0.042\n",
            "L4.pressure     0.0520      0.000    134.585      0.000       0.051       0.053\n",
            "                                  Error covariance matrix                                  \n",
            "===========================================================================================\n",
            "                              coef    std err          z      P>|z|      [0.025      0.975]\n",
            "-------------------------------------------------------------------------------------------\n",
            "sqrt.var.value              0.0015   7.47e-08   2.04e+04      0.000       0.002       0.002\n",
            "sqrt.cov.value.pressure  1.297e-05   2.67e-05      0.486      0.627   -3.93e-05    6.53e-05\n",
            "sqrt.var.pressure           0.0067   3.93e-07    1.7e+04      0.000       0.007       0.007\n",
            "===========================================================================================\n",
            "\n",
            "Warnings:\n",
            "[1] Covariance matrix calculated using the outer product of gradients (complex-step).\n"
          ]
        }
      ]
    },
    {
      "cell_type": "code",
      "source": [
        "n_forecast = 15000\n",
        "predict = fitted_model.get_prediction(start=len(train_df),end=len(train_df) + n_forecast-1))\n",
        "predictions=predict.predicted_mean\n",
        "\n"
      ],
      "metadata": {
        "colab": {
          "base_uri": "https://localhost:8080/"
        },
        "id": "00sLfHDfP-Rh",
        "outputId": "a290654e-b714-43d5-94f8-853fd258ee44"
      },
      "execution_count": 161,
      "outputs": [
        {
          "output_type": "stream",
          "name": "stderr",
          "text": [
            "/usr/local/lib/python3.7/dist-packages/statsmodels/tsa/base/tsa_model.py:576: ValueWarning: No supported index is available. Prediction results will be given with an integer index beginning at `start`.\n",
            "  ValueWarning)\n"
          ]
        }
      ]
    },
    {
      "cell_type": "code",
      "source": [
        "predictions.columns=['value_pred','pressure_pred']\n",
        "predictions"
      ],
      "metadata": {
        "colab": {
          "base_uri": "https://localhost:8080/",
          "height": 423
        },
        "id": "jVVX9pfmPk7I",
        "outputId": "2645ad71-7af5-4e19-8f77-65a698af22f1"
      },
      "execution_count": 162,
      "outputs": [
        {
          "output_type": "execute_result",
          "data": {
            "text/plain": [
              "        value_pred  pressure_pred\n",
              "312734   -0.000041      -0.997768\n",
              "312735   -0.000241      -0.998519\n",
              "312736    0.000141      -0.998567\n",
              "312737   -0.000027      -0.998477\n",
              "312738   -0.000020      -0.998408\n",
              "...            ...            ...\n",
              "327729   -0.000005      -0.998429\n",
              "327730   -0.000005      -0.998429\n",
              "327731   -0.000005      -0.998429\n",
              "327732   -0.000005      -0.998429\n",
              "327733   -0.000005      -0.998429\n",
              "\n",
              "[15000 rows x 2 columns]"
            ],
            "text/html": [
              "\n",
              "  <div id=\"df-0bbee747-beff-4fed-8f31-c0ef61d22701\">\n",
              "    <div class=\"colab-df-container\">\n",
              "      <div>\n",
              "<style scoped>\n",
              "    .dataframe tbody tr th:only-of-type {\n",
              "        vertical-align: middle;\n",
              "    }\n",
              "\n",
              "    .dataframe tbody tr th {\n",
              "        vertical-align: top;\n",
              "    }\n",
              "\n",
              "    .dataframe thead th {\n",
              "        text-align: right;\n",
              "    }\n",
              "</style>\n",
              "<table border=\"1\" class=\"dataframe\">\n",
              "  <thead>\n",
              "    <tr style=\"text-align: right;\">\n",
              "      <th></th>\n",
              "      <th>value_pred</th>\n",
              "      <th>pressure_pred</th>\n",
              "    </tr>\n",
              "  </thead>\n",
              "  <tbody>\n",
              "    <tr>\n",
              "      <th>312734</th>\n",
              "      <td>-0.000041</td>\n",
              "      <td>-0.997768</td>\n",
              "    </tr>\n",
              "    <tr>\n",
              "      <th>312735</th>\n",
              "      <td>-0.000241</td>\n",
              "      <td>-0.998519</td>\n",
              "    </tr>\n",
              "    <tr>\n",
              "      <th>312736</th>\n",
              "      <td>0.000141</td>\n",
              "      <td>-0.998567</td>\n",
              "    </tr>\n",
              "    <tr>\n",
              "      <th>312737</th>\n",
              "      <td>-0.000027</td>\n",
              "      <td>-0.998477</td>\n",
              "    </tr>\n",
              "    <tr>\n",
              "      <th>312738</th>\n",
              "      <td>-0.000020</td>\n",
              "      <td>-0.998408</td>\n",
              "    </tr>\n",
              "    <tr>\n",
              "      <th>...</th>\n",
              "      <td>...</td>\n",
              "      <td>...</td>\n",
              "    </tr>\n",
              "    <tr>\n",
              "      <th>327729</th>\n",
              "      <td>-0.000005</td>\n",
              "      <td>-0.998429</td>\n",
              "    </tr>\n",
              "    <tr>\n",
              "      <th>327730</th>\n",
              "      <td>-0.000005</td>\n",
              "      <td>-0.998429</td>\n",
              "    </tr>\n",
              "    <tr>\n",
              "      <th>327731</th>\n",
              "      <td>-0.000005</td>\n",
              "      <td>-0.998429</td>\n",
              "    </tr>\n",
              "    <tr>\n",
              "      <th>327732</th>\n",
              "      <td>-0.000005</td>\n",
              "      <td>-0.998429</td>\n",
              "    </tr>\n",
              "    <tr>\n",
              "      <th>327733</th>\n",
              "      <td>-0.000005</td>\n",
              "      <td>-0.998429</td>\n",
              "    </tr>\n",
              "  </tbody>\n",
              "</table>\n",
              "<p>15000 rows × 2 columns</p>\n",
              "</div>\n",
              "      <button class=\"colab-df-convert\" onclick=\"convertToInteractive('df-0bbee747-beff-4fed-8f31-c0ef61d22701')\"\n",
              "              title=\"Convert this dataframe to an interactive table.\"\n",
              "              style=\"display:none;\">\n",
              "        \n",
              "  <svg xmlns=\"http://www.w3.org/2000/svg\" height=\"24px\"viewBox=\"0 0 24 24\"\n",
              "       width=\"24px\">\n",
              "    <path d=\"M0 0h24v24H0V0z\" fill=\"none\"/>\n",
              "    <path d=\"M18.56 5.44l.94 2.06.94-2.06 2.06-.94-2.06-.94-.94-2.06-.94 2.06-2.06.94zm-11 1L8.5 8.5l.94-2.06 2.06-.94-2.06-.94L8.5 2.5l-.94 2.06-2.06.94zm10 10l.94 2.06.94-2.06 2.06-.94-2.06-.94-.94-2.06-.94 2.06-2.06.94z\"/><path d=\"M17.41 7.96l-1.37-1.37c-.4-.4-.92-.59-1.43-.59-.52 0-1.04.2-1.43.59L10.3 9.45l-7.72 7.72c-.78.78-.78 2.05 0 2.83L4 21.41c.39.39.9.59 1.41.59.51 0 1.02-.2 1.41-.59l7.78-7.78 2.81-2.81c.8-.78.8-2.07 0-2.86zM5.41 20L4 18.59l7.72-7.72 1.47 1.35L5.41 20z\"/>\n",
              "  </svg>\n",
              "      </button>\n",
              "      \n",
              "  <style>\n",
              "    .colab-df-container {\n",
              "      display:flex;\n",
              "      flex-wrap:wrap;\n",
              "      gap: 12px;\n",
              "    }\n",
              "\n",
              "    .colab-df-convert {\n",
              "      background-color: #E8F0FE;\n",
              "      border: none;\n",
              "      border-radius: 50%;\n",
              "      cursor: pointer;\n",
              "      display: none;\n",
              "      fill: #1967D2;\n",
              "      height: 32px;\n",
              "      padding: 0 0 0 0;\n",
              "      width: 32px;\n",
              "    }\n",
              "\n",
              "    .colab-df-convert:hover {\n",
              "      background-color: #E2EBFA;\n",
              "      box-shadow: 0px 1px 2px rgba(60, 64, 67, 0.3), 0px 1px 3px 1px rgba(60, 64, 67, 0.15);\n",
              "      fill: #174EA6;\n",
              "    }\n",
              "\n",
              "    [theme=dark] .colab-df-convert {\n",
              "      background-color: #3B4455;\n",
              "      fill: #D2E3FC;\n",
              "    }\n",
              "\n",
              "    [theme=dark] .colab-df-convert:hover {\n",
              "      background-color: #434B5C;\n",
              "      box-shadow: 0px 1px 3px 1px rgba(0, 0, 0, 0.15);\n",
              "      filter: drop-shadow(0px 1px 2px rgba(0, 0, 0, 0.3));\n",
              "      fill: #FFFFFF;\n",
              "    }\n",
              "  </style>\n",
              "\n",
              "      <script>\n",
              "        const buttonEl =\n",
              "          document.querySelector('#df-0bbee747-beff-4fed-8f31-c0ef61d22701 button.colab-df-convert');\n",
              "        buttonEl.style.display =\n",
              "          google.colab.kernel.accessAllowed ? 'block' : 'none';\n",
              "\n",
              "        async function convertToInteractive(key) {\n",
              "          const element = document.querySelector('#df-0bbee747-beff-4fed-8f31-c0ef61d22701');\n",
              "          const dataTable =\n",
              "            await google.colab.kernel.invokeFunction('convertToInteractive',\n",
              "                                                     [key], {});\n",
              "          if (!dataTable) return;\n",
              "\n",
              "          const docLinkHtml = 'Like what you see? Visit the ' +\n",
              "            '<a target=\"_blank\" href=https://colab.research.google.com/notebooks/data_table.ipynb>data table notebook</a>'\n",
              "            + ' to learn more about interactive tables.';\n",
              "          element.innerHTML = '';\n",
              "          dataTable['output_type'] = 'display_data';\n",
              "          await google.colab.output.renderOutput(dataTable, element);\n",
              "          const docLink = document.createElement('div');\n",
              "          docLink.innerHTML = docLinkHtml;\n",
              "          element.appendChild(docLink);\n",
              "        }\n",
              "      </script>\n",
              "    </div>\n",
              "  </div>\n",
              "  "
            ]
          },
          "metadata": {},
          "execution_count": 162
        }
      ]
    },
    {
      "cell_type": "code",
      "source": [
        "len(predictions)"
      ],
      "metadata": {
        "colab": {
          "base_uri": "https://localhost:8080/"
        },
        "id": "lRCFTIzjQePv",
        "outputId": "0191354a-d011-459a-aaf3-9991964e9053"
      },
      "execution_count": 163,
      "outputs": [
        {
          "output_type": "execute_result",
          "data": {
            "text/plain": [
              "15000"
            ]
          },
          "metadata": {},
          "execution_count": 163
        }
      ]
    },
    {
      "cell_type": "code",
      "source": [
        "test_df2 = test_df.reset_index()\n",
        "pred2=predictions.reset_index()"
      ],
      "metadata": {
        "id": "qDiwUpDPQ63d"
      },
      "execution_count": 164,
      "outputs": []
    },
    {
      "cell_type": "code",
      "source": [
        "test_df2.drop(['timestamp'], axis = 1, inplace = True) "
      ],
      "metadata": {
        "id": "mpy8R6QbZXiF"
      },
      "execution_count": 165,
      "outputs": []
    },
    {
      "cell_type": "code",
      "source": [
        "pred2.drop(['index'], axis = 1, inplace = True) "
      ],
      "metadata": {
        "id": "5yrUhmnBaDl0"
      },
      "execution_count": 166,
      "outputs": []
    },
    {
      "cell_type": "code",
      "source": [
        "test_df2.head(2)"
      ],
      "metadata": {
        "colab": {
          "base_uri": "https://localhost:8080/",
          "height": 112
        },
        "id": "8vNzS0iuZ60k",
        "outputId": "1ed4dc87-f6f1-43c4-c854-9200ea57e3a0"
      },
      "execution_count": 167,
      "outputs": [
        {
          "output_type": "execute_result",
          "data": {
            "text/plain": [
              "      value  pressure\n",
              "0 -0.007935 -0.999988\n",
              "1 -0.002437 -1.000000"
            ],
            "text/html": [
              "\n",
              "  <div id=\"df-239d750d-2721-435f-9846-ef6eaa8d2a11\">\n",
              "    <div class=\"colab-df-container\">\n",
              "      <div>\n",
              "<style scoped>\n",
              "    .dataframe tbody tr th:only-of-type {\n",
              "        vertical-align: middle;\n",
              "    }\n",
              "\n",
              "    .dataframe tbody tr th {\n",
              "        vertical-align: top;\n",
              "    }\n",
              "\n",
              "    .dataframe thead th {\n",
              "        text-align: right;\n",
              "    }\n",
              "</style>\n",
              "<table border=\"1\" class=\"dataframe\">\n",
              "  <thead>\n",
              "    <tr style=\"text-align: right;\">\n",
              "      <th></th>\n",
              "      <th>value</th>\n",
              "      <th>pressure</th>\n",
              "    </tr>\n",
              "  </thead>\n",
              "  <tbody>\n",
              "    <tr>\n",
              "      <th>0</th>\n",
              "      <td>-0.007935</td>\n",
              "      <td>-0.999988</td>\n",
              "    </tr>\n",
              "    <tr>\n",
              "      <th>1</th>\n",
              "      <td>-0.002437</td>\n",
              "      <td>-1.000000</td>\n",
              "    </tr>\n",
              "  </tbody>\n",
              "</table>\n",
              "</div>\n",
              "      <button class=\"colab-df-convert\" onclick=\"convertToInteractive('df-239d750d-2721-435f-9846-ef6eaa8d2a11')\"\n",
              "              title=\"Convert this dataframe to an interactive table.\"\n",
              "              style=\"display:none;\">\n",
              "        \n",
              "  <svg xmlns=\"http://www.w3.org/2000/svg\" height=\"24px\"viewBox=\"0 0 24 24\"\n",
              "       width=\"24px\">\n",
              "    <path d=\"M0 0h24v24H0V0z\" fill=\"none\"/>\n",
              "    <path d=\"M18.56 5.44l.94 2.06.94-2.06 2.06-.94-2.06-.94-.94-2.06-.94 2.06-2.06.94zm-11 1L8.5 8.5l.94-2.06 2.06-.94-2.06-.94L8.5 2.5l-.94 2.06-2.06.94zm10 10l.94 2.06.94-2.06 2.06-.94-2.06-.94-.94-2.06-.94 2.06-2.06.94z\"/><path d=\"M17.41 7.96l-1.37-1.37c-.4-.4-.92-.59-1.43-.59-.52 0-1.04.2-1.43.59L10.3 9.45l-7.72 7.72c-.78.78-.78 2.05 0 2.83L4 21.41c.39.39.9.59 1.41.59.51 0 1.02-.2 1.41-.59l7.78-7.78 2.81-2.81c.8-.78.8-2.07 0-2.86zM5.41 20L4 18.59l7.72-7.72 1.47 1.35L5.41 20z\"/>\n",
              "  </svg>\n",
              "      </button>\n",
              "      \n",
              "  <style>\n",
              "    .colab-df-container {\n",
              "      display:flex;\n",
              "      flex-wrap:wrap;\n",
              "      gap: 12px;\n",
              "    }\n",
              "\n",
              "    .colab-df-convert {\n",
              "      background-color: #E8F0FE;\n",
              "      border: none;\n",
              "      border-radius: 50%;\n",
              "      cursor: pointer;\n",
              "      display: none;\n",
              "      fill: #1967D2;\n",
              "      height: 32px;\n",
              "      padding: 0 0 0 0;\n",
              "      width: 32px;\n",
              "    }\n",
              "\n",
              "    .colab-df-convert:hover {\n",
              "      background-color: #E2EBFA;\n",
              "      box-shadow: 0px 1px 2px rgba(60, 64, 67, 0.3), 0px 1px 3px 1px rgba(60, 64, 67, 0.15);\n",
              "      fill: #174EA6;\n",
              "    }\n",
              "\n",
              "    [theme=dark] .colab-df-convert {\n",
              "      background-color: #3B4455;\n",
              "      fill: #D2E3FC;\n",
              "    }\n",
              "\n",
              "    [theme=dark] .colab-df-convert:hover {\n",
              "      background-color: #434B5C;\n",
              "      box-shadow: 0px 1px 3px 1px rgba(0, 0, 0, 0.15);\n",
              "      filter: drop-shadow(0px 1px 2px rgba(0, 0, 0, 0.3));\n",
              "      fill: #FFFFFF;\n",
              "    }\n",
              "  </style>\n",
              "\n",
              "      <script>\n",
              "        const buttonEl =\n",
              "          document.querySelector('#df-239d750d-2721-435f-9846-ef6eaa8d2a11 button.colab-df-convert');\n",
              "        buttonEl.style.display =\n",
              "          google.colab.kernel.accessAllowed ? 'block' : 'none';\n",
              "\n",
              "        async function convertToInteractive(key) {\n",
              "          const element = document.querySelector('#df-239d750d-2721-435f-9846-ef6eaa8d2a11');\n",
              "          const dataTable =\n",
              "            await google.colab.kernel.invokeFunction('convertToInteractive',\n",
              "                                                     [key], {});\n",
              "          if (!dataTable) return;\n",
              "\n",
              "          const docLinkHtml = 'Like what you see? Visit the ' +\n",
              "            '<a target=\"_blank\" href=https://colab.research.google.com/notebooks/data_table.ipynb>data table notebook</a>'\n",
              "            + ' to learn more about interactive tables.';\n",
              "          element.innerHTML = '';\n",
              "          dataTable['output_type'] = 'display_data';\n",
              "          await google.colab.output.renderOutput(dataTable, element);\n",
              "          const docLink = document.createElement('div');\n",
              "          docLink.innerHTML = docLinkHtml;\n",
              "          element.appendChild(docLink);\n",
              "        }\n",
              "      </script>\n",
              "    </div>\n",
              "  </div>\n",
              "  "
            ]
          },
          "metadata": {},
          "execution_count": 167
        }
      ]
    },
    {
      "cell_type": "code",
      "source": [
        "pred2.head(2)"
      ],
      "metadata": {
        "colab": {
          "base_uri": "https://localhost:8080/",
          "height": 112
        },
        "id": "_xZJfuEpZ-Vq",
        "outputId": "28d11964-dbbc-493e-d96b-2ed354cd7432"
      },
      "execution_count": 168,
      "outputs": [
        {
          "output_type": "execute_result",
          "data": {
            "text/plain": [
              "   value_pred  pressure_pred\n",
              "0   -0.000041      -0.997768\n",
              "1   -0.000241      -0.998519"
            ],
            "text/html": [
              "\n",
              "  <div id=\"df-715724fe-bf46-441d-bde2-eb77e8da0fc2\">\n",
              "    <div class=\"colab-df-container\">\n",
              "      <div>\n",
              "<style scoped>\n",
              "    .dataframe tbody tr th:only-of-type {\n",
              "        vertical-align: middle;\n",
              "    }\n",
              "\n",
              "    .dataframe tbody tr th {\n",
              "        vertical-align: top;\n",
              "    }\n",
              "\n",
              "    .dataframe thead th {\n",
              "        text-align: right;\n",
              "    }\n",
              "</style>\n",
              "<table border=\"1\" class=\"dataframe\">\n",
              "  <thead>\n",
              "    <tr style=\"text-align: right;\">\n",
              "      <th></th>\n",
              "      <th>value_pred</th>\n",
              "      <th>pressure_pred</th>\n",
              "    </tr>\n",
              "  </thead>\n",
              "  <tbody>\n",
              "    <tr>\n",
              "      <th>0</th>\n",
              "      <td>-0.000041</td>\n",
              "      <td>-0.997768</td>\n",
              "    </tr>\n",
              "    <tr>\n",
              "      <th>1</th>\n",
              "      <td>-0.000241</td>\n",
              "      <td>-0.998519</td>\n",
              "    </tr>\n",
              "  </tbody>\n",
              "</table>\n",
              "</div>\n",
              "      <button class=\"colab-df-convert\" onclick=\"convertToInteractive('df-715724fe-bf46-441d-bde2-eb77e8da0fc2')\"\n",
              "              title=\"Convert this dataframe to an interactive table.\"\n",
              "              style=\"display:none;\">\n",
              "        \n",
              "  <svg xmlns=\"http://www.w3.org/2000/svg\" height=\"24px\"viewBox=\"0 0 24 24\"\n",
              "       width=\"24px\">\n",
              "    <path d=\"M0 0h24v24H0V0z\" fill=\"none\"/>\n",
              "    <path d=\"M18.56 5.44l.94 2.06.94-2.06 2.06-.94-2.06-.94-.94-2.06-.94 2.06-2.06.94zm-11 1L8.5 8.5l.94-2.06 2.06-.94-2.06-.94L8.5 2.5l-.94 2.06-2.06.94zm10 10l.94 2.06.94-2.06 2.06-.94-2.06-.94-.94-2.06-.94 2.06-2.06.94z\"/><path d=\"M17.41 7.96l-1.37-1.37c-.4-.4-.92-.59-1.43-.59-.52 0-1.04.2-1.43.59L10.3 9.45l-7.72 7.72c-.78.78-.78 2.05 0 2.83L4 21.41c.39.39.9.59 1.41.59.51 0 1.02-.2 1.41-.59l7.78-7.78 2.81-2.81c.8-.78.8-2.07 0-2.86zM5.41 20L4 18.59l7.72-7.72 1.47 1.35L5.41 20z\"/>\n",
              "  </svg>\n",
              "      </button>\n",
              "      \n",
              "  <style>\n",
              "    .colab-df-container {\n",
              "      display:flex;\n",
              "      flex-wrap:wrap;\n",
              "      gap: 12px;\n",
              "    }\n",
              "\n",
              "    .colab-df-convert {\n",
              "      background-color: #E8F0FE;\n",
              "      border: none;\n",
              "      border-radius: 50%;\n",
              "      cursor: pointer;\n",
              "      display: none;\n",
              "      fill: #1967D2;\n",
              "      height: 32px;\n",
              "      padding: 0 0 0 0;\n",
              "      width: 32px;\n",
              "    }\n",
              "\n",
              "    .colab-df-convert:hover {\n",
              "      background-color: #E2EBFA;\n",
              "      box-shadow: 0px 1px 2px rgba(60, 64, 67, 0.3), 0px 1px 3px 1px rgba(60, 64, 67, 0.15);\n",
              "      fill: #174EA6;\n",
              "    }\n",
              "\n",
              "    [theme=dark] .colab-df-convert {\n",
              "      background-color: #3B4455;\n",
              "      fill: #D2E3FC;\n",
              "    }\n",
              "\n",
              "    [theme=dark] .colab-df-convert:hover {\n",
              "      background-color: #434B5C;\n",
              "      box-shadow: 0px 1px 3px 1px rgba(0, 0, 0, 0.15);\n",
              "      filter: drop-shadow(0px 1px 2px rgba(0, 0, 0, 0.3));\n",
              "      fill: #FFFFFF;\n",
              "    }\n",
              "  </style>\n",
              "\n",
              "      <script>\n",
              "        const buttonEl =\n",
              "          document.querySelector('#df-715724fe-bf46-441d-bde2-eb77e8da0fc2 button.colab-df-convert');\n",
              "        buttonEl.style.display =\n",
              "          google.colab.kernel.accessAllowed ? 'block' : 'none';\n",
              "\n",
              "        async function convertToInteractive(key) {\n",
              "          const element = document.querySelector('#df-715724fe-bf46-441d-bde2-eb77e8da0fc2');\n",
              "          const dataTable =\n",
              "            await google.colab.kernel.invokeFunction('convertToInteractive',\n",
              "                                                     [key], {});\n",
              "          if (!dataTable) return;\n",
              "\n",
              "          const docLinkHtml = 'Like what you see? Visit the ' +\n",
              "            '<a target=\"_blank\" href=https://colab.research.google.com/notebooks/data_table.ipynb>data table notebook</a>'\n",
              "            + ' to learn more about interactive tables.';\n",
              "          element.innerHTML = '';\n",
              "          dataTable['output_type'] = 'display_data';\n",
              "          await google.colab.output.renderOutput(dataTable, element);\n",
              "          const docLink = document.createElement('div');\n",
              "          docLink.innerHTML = docLinkHtml;\n",
              "          element.appendChild(docLink);\n",
              "        }\n",
              "      </script>\n",
              "    </div>\n",
              "  </div>\n",
              "  "
            ]
          },
          "metadata": {},
          "execution_count": 168
        }
      ]
    },
    {
      "cell_type": "code",
      "source": [
        "testAndpred=pd.concat([test_df2[:15000],pred2],axis=1)"
      ],
      "metadata": {
        "id": "THdcFufcQW3v"
      },
      "execution_count": 170,
      "outputs": []
    },
    {
      "cell_type": "code",
      "source": [
        "testAndpred"
      ],
      "metadata": {
        "colab": {
          "base_uri": "https://localhost:8080/",
          "height": 423
        },
        "id": "DbroLNbIRBv_",
        "outputId": "e3a8f48d-b9c4-4da7-af66-6aca664959df"
      },
      "execution_count": 171,
      "outputs": [
        {
          "output_type": "execute_result",
          "data": {
            "text/plain": [
              "          value  pressure  value_pred  pressure_pred\n",
              "0     -0.007935 -0.999988   -0.000041      -0.997768\n",
              "1     -0.002437 -1.000000   -0.000241      -0.998519\n",
              "2      0.007159 -0.999724    0.000141      -0.998567\n",
              "3      0.002240 -0.999997   -0.000027      -0.998477\n",
              "4     -0.002782 -0.999930   -0.000020      -0.998408\n",
              "...         ...       ...         ...            ...\n",
              "14995 -0.002014 -0.999983   -0.000005      -0.998429\n",
              "14996 -0.004734 -0.999883   -0.000005      -0.998429\n",
              "14997 -0.005129 -0.999596   -0.000005      -0.998429\n",
              "14998 -0.000937 -0.999470   -0.000005      -0.998429\n",
              "14999 -0.003468 -0.999894   -0.000005      -0.998429\n",
              "\n",
              "[15000 rows x 4 columns]"
            ],
            "text/html": [
              "\n",
              "  <div id=\"df-e84234d1-cff9-4962-b0ae-09cde79ab8c1\">\n",
              "    <div class=\"colab-df-container\">\n",
              "      <div>\n",
              "<style scoped>\n",
              "    .dataframe tbody tr th:only-of-type {\n",
              "        vertical-align: middle;\n",
              "    }\n",
              "\n",
              "    .dataframe tbody tr th {\n",
              "        vertical-align: top;\n",
              "    }\n",
              "\n",
              "    .dataframe thead th {\n",
              "        text-align: right;\n",
              "    }\n",
              "</style>\n",
              "<table border=\"1\" class=\"dataframe\">\n",
              "  <thead>\n",
              "    <tr style=\"text-align: right;\">\n",
              "      <th></th>\n",
              "      <th>value</th>\n",
              "      <th>pressure</th>\n",
              "      <th>value_pred</th>\n",
              "      <th>pressure_pred</th>\n",
              "    </tr>\n",
              "  </thead>\n",
              "  <tbody>\n",
              "    <tr>\n",
              "      <th>0</th>\n",
              "      <td>-0.007935</td>\n",
              "      <td>-0.999988</td>\n",
              "      <td>-0.000041</td>\n",
              "      <td>-0.997768</td>\n",
              "    </tr>\n",
              "    <tr>\n",
              "      <th>1</th>\n",
              "      <td>-0.002437</td>\n",
              "      <td>-1.000000</td>\n",
              "      <td>-0.000241</td>\n",
              "      <td>-0.998519</td>\n",
              "    </tr>\n",
              "    <tr>\n",
              "      <th>2</th>\n",
              "      <td>0.007159</td>\n",
              "      <td>-0.999724</td>\n",
              "      <td>0.000141</td>\n",
              "      <td>-0.998567</td>\n",
              "    </tr>\n",
              "    <tr>\n",
              "      <th>3</th>\n",
              "      <td>0.002240</td>\n",
              "      <td>-0.999997</td>\n",
              "      <td>-0.000027</td>\n",
              "      <td>-0.998477</td>\n",
              "    </tr>\n",
              "    <tr>\n",
              "      <th>4</th>\n",
              "      <td>-0.002782</td>\n",
              "      <td>-0.999930</td>\n",
              "      <td>-0.000020</td>\n",
              "      <td>-0.998408</td>\n",
              "    </tr>\n",
              "    <tr>\n",
              "      <th>...</th>\n",
              "      <td>...</td>\n",
              "      <td>...</td>\n",
              "      <td>...</td>\n",
              "      <td>...</td>\n",
              "    </tr>\n",
              "    <tr>\n",
              "      <th>14995</th>\n",
              "      <td>-0.002014</td>\n",
              "      <td>-0.999983</td>\n",
              "      <td>-0.000005</td>\n",
              "      <td>-0.998429</td>\n",
              "    </tr>\n",
              "    <tr>\n",
              "      <th>14996</th>\n",
              "      <td>-0.004734</td>\n",
              "      <td>-0.999883</td>\n",
              "      <td>-0.000005</td>\n",
              "      <td>-0.998429</td>\n",
              "    </tr>\n",
              "    <tr>\n",
              "      <th>14997</th>\n",
              "      <td>-0.005129</td>\n",
              "      <td>-0.999596</td>\n",
              "      <td>-0.000005</td>\n",
              "      <td>-0.998429</td>\n",
              "    </tr>\n",
              "    <tr>\n",
              "      <th>14998</th>\n",
              "      <td>-0.000937</td>\n",
              "      <td>-0.999470</td>\n",
              "      <td>-0.000005</td>\n",
              "      <td>-0.998429</td>\n",
              "    </tr>\n",
              "    <tr>\n",
              "      <th>14999</th>\n",
              "      <td>-0.003468</td>\n",
              "      <td>-0.999894</td>\n",
              "      <td>-0.000005</td>\n",
              "      <td>-0.998429</td>\n",
              "    </tr>\n",
              "  </tbody>\n",
              "</table>\n",
              "<p>15000 rows × 4 columns</p>\n",
              "</div>\n",
              "      <button class=\"colab-df-convert\" onclick=\"convertToInteractive('df-e84234d1-cff9-4962-b0ae-09cde79ab8c1')\"\n",
              "              title=\"Convert this dataframe to an interactive table.\"\n",
              "              style=\"display:none;\">\n",
              "        \n",
              "  <svg xmlns=\"http://www.w3.org/2000/svg\" height=\"24px\"viewBox=\"0 0 24 24\"\n",
              "       width=\"24px\">\n",
              "    <path d=\"M0 0h24v24H0V0z\" fill=\"none\"/>\n",
              "    <path d=\"M18.56 5.44l.94 2.06.94-2.06 2.06-.94-2.06-.94-.94-2.06-.94 2.06-2.06.94zm-11 1L8.5 8.5l.94-2.06 2.06-.94-2.06-.94L8.5 2.5l-.94 2.06-2.06.94zm10 10l.94 2.06.94-2.06 2.06-.94-2.06-.94-.94-2.06-.94 2.06-2.06.94z\"/><path d=\"M17.41 7.96l-1.37-1.37c-.4-.4-.92-.59-1.43-.59-.52 0-1.04.2-1.43.59L10.3 9.45l-7.72 7.72c-.78.78-.78 2.05 0 2.83L4 21.41c.39.39.9.59 1.41.59.51 0 1.02-.2 1.41-.59l7.78-7.78 2.81-2.81c.8-.78.8-2.07 0-2.86zM5.41 20L4 18.59l7.72-7.72 1.47 1.35L5.41 20z\"/>\n",
              "  </svg>\n",
              "      </button>\n",
              "      \n",
              "  <style>\n",
              "    .colab-df-container {\n",
              "      display:flex;\n",
              "      flex-wrap:wrap;\n",
              "      gap: 12px;\n",
              "    }\n",
              "\n",
              "    .colab-df-convert {\n",
              "      background-color: #E8F0FE;\n",
              "      border: none;\n",
              "      border-radius: 50%;\n",
              "      cursor: pointer;\n",
              "      display: none;\n",
              "      fill: #1967D2;\n",
              "      height: 32px;\n",
              "      padding: 0 0 0 0;\n",
              "      width: 32px;\n",
              "    }\n",
              "\n",
              "    .colab-df-convert:hover {\n",
              "      background-color: #E2EBFA;\n",
              "      box-shadow: 0px 1px 2px rgba(60, 64, 67, 0.3), 0px 1px 3px 1px rgba(60, 64, 67, 0.15);\n",
              "      fill: #174EA6;\n",
              "    }\n",
              "\n",
              "    [theme=dark] .colab-df-convert {\n",
              "      background-color: #3B4455;\n",
              "      fill: #D2E3FC;\n",
              "    }\n",
              "\n",
              "    [theme=dark] .colab-df-convert:hover {\n",
              "      background-color: #434B5C;\n",
              "      box-shadow: 0px 1px 3px 1px rgba(0, 0, 0, 0.15);\n",
              "      filter: drop-shadow(0px 1px 2px rgba(0, 0, 0, 0.3));\n",
              "      fill: #FFFFFF;\n",
              "    }\n",
              "  </style>\n",
              "\n",
              "      <script>\n",
              "        const buttonEl =\n",
              "          document.querySelector('#df-e84234d1-cff9-4962-b0ae-09cde79ab8c1 button.colab-df-convert');\n",
              "        buttonEl.style.display =\n",
              "          google.colab.kernel.accessAllowed ? 'block' : 'none';\n",
              "\n",
              "        async function convertToInteractive(key) {\n",
              "          const element = document.querySelector('#df-e84234d1-cff9-4962-b0ae-09cde79ab8c1');\n",
              "          const dataTable =\n",
              "            await google.colab.kernel.invokeFunction('convertToInteractive',\n",
              "                                                     [key], {});\n",
              "          if (!dataTable) return;\n",
              "\n",
              "          const docLinkHtml = 'Like what you see? Visit the ' +\n",
              "            '<a target=\"_blank\" href=https://colab.research.google.com/notebooks/data_table.ipynb>data table notebook</a>'\n",
              "            + ' to learn more about interactive tables.';\n",
              "          element.innerHTML = '';\n",
              "          dataTable['output_type'] = 'display_data';\n",
              "          await google.colab.output.renderOutput(dataTable, element);\n",
              "          const docLink = document.createElement('div');\n",
              "          docLink.innerHTML = docLinkHtml;\n",
              "          element.appendChild(docLink);\n",
              "        }\n",
              "      </script>\n",
              "    </div>\n",
              "  </div>\n",
              "  "
            ]
          },
          "metadata": {},
          "execution_count": 171
        }
      ]
    },
    {
      "cell_type": "code",
      "source": [
        "testAndpred.plot(figsize=(15,10))"
      ],
      "metadata": {
        "colab": {
          "base_uri": "https://localhost:8080/",
          "height": 610
        },
        "id": "jDWNjJiIR0w1",
        "outputId": "52e1e745-88c9-49cc-a3f8-e27e4c45cfb7"
      },
      "execution_count": 172,
      "outputs": [
        {
          "output_type": "execute_result",
          "data": {
            "text/plain": [
              "<matplotlib.axes._subplots.AxesSubplot at 0x7fc5a1b9fcd0>"
            ]
          },
          "metadata": {},
          "execution_count": 172
        },
        {
          "output_type": "display_data",
          "data": {
            "text/plain": [
              "<Figure size 1080x720 with 1 Axes>"
            ],
            "image/png": "[encoded data removed]"
          },
          "metadata": {
            "needs_background": "light"
          }
        }
      ]
    }
  ],
  "metadata": {
    "colab": {
      "collapsed_sections": [],
      "name": "Lab_1_Zakaria.ipynb",
      "provenance": []
    },
    "gpuClass": "standard",
    "kernelspec": {
      "display_name": "Python 3",
      "name": "python3"
    },
    "language_info": {
      "name": "python"
    },
    "accelerator": "GPU"
  },
  "nbformat": 4,
  "nbformat_minor": 0
}